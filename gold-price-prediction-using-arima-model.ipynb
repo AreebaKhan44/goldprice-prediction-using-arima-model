{
 "cells": [
  {
   "cell_type": "markdown",
   "id": "e273007c",
   "metadata": {
    "papermill": {
     "duration": 0.017822,
     "end_time": "2024-06-30T15:04:49.269336",
     "exception": false,
     "start_time": "2024-06-30T15:04:49.251514",
     "status": "completed"
    },
    "tags": []
   },
   "source": [
    "<a id=\"1\"></a>\n",
    "<h1><b><p style=\"background-image: url(https://i.postimg.cc/Qt051F3p/d-fklaj.jpg);font-family:Trebuchet MS;font-size:120%;color:#3F2305;text-align:center;border-radius:15px 50px; padding:7px; border:double 6px #1E90FF; box-shadow: 0px 0px 20px 5px #32CD32; text-shadow: 4px 4px 8px rgba(54, 69, 79, 0.7);\"> [̲̅$̲̅(̲̅ ͡𓆩♡𓆪⚜️Gold Price Prediction⚜️𓆩♡)̲̅𓆪$̲̅]</p></b></h1>\n",
    "\n",
    "<table style=\"width: 80%; color:black; border-collapse: collapse; text-align: left; border: 1px solid #ddd; box-shadow: 0 8px 16px rgba(224, 167, 94, 0.3);\">\n",
    "  <tr style=\"color:white;\">\n",
    "    <th style=\"background: linear-gradient(to right, #E0A75E, #F9D689);\n",
    "               padding: 10px;\n",
    "               text-align: center;\n",
    "               border-bottom: 2px solid #ddd;\n",
    "               border-left: 2px solid #ddd;\n",
    "               border-top: 2px solid #ddd;\">Name</th>\n",
    "    <th style=\"padding: 10px;\n",
    "               background: linear-gradient(to right, #E0A75E, #F9D689);\n",
    "               text-align: left;\n",
    "               border-bottom: 2px solid #ddd;\n",
    "               border-top: 2px solid #ddd;\">Email</th>\n",
    "    <th style=\"padding: 10px;\n",
    "               background: linear-gradient(to right, #E0A75E, #F9D689);\n",
    "               padding-left: 20px;\n",
    "               text-align: left;\n",
    "               border-bottom: 2px solid #ddd;\n",
    "               border-top: 2px solid #ddd;\">LinkedIn</th>\n",
    "    <th style=\"padding: 10px;\n",
    "               background: linear-gradient(to right, #E0A75E, #F9D689);\n",
    "               padding-left: 15px;\n",
    "               text-align: left;\n",
    "               border-bottom: 2px solid #ddd;\n",
    "               border-top: 2px solid #ddd;\">GitHub</th>\n",
    "    <th style=\"padding: 10px;\n",
    "               background: linear-gradient(to right, #E0A75E, #F9D689);\n",
    "               text-align: left;\n",
    "               border-bottom: 2px solid #ddd;\n",
    "               border-right: 2px solid #ddd;\n",
    "               border-top: 2px solid #ddd;\">Kaggle</th>\n",
    "  </tr>\n",
    "  <tr>\n",
    "    <td style=\"padding-left: 0px; border-bottom: 2px solid #ddd; text-align: center;\">Fahad Rehman</td>\n",
    "    <td style=\"padding-left: 2px; border-bottom: 2px solid #ddd; text-align: right;\">fahadrehmann07@gmail.com</td>\n",
    "    <td style=\"padding-left: 20px; border-bottom: 2px solid #ddd; text-align: left;\">\n",
    "      <a href=\"https://www.linkedin.com/in/fahad-rehman-datascience/\" style=\"text-decoration: none; color: #2c3e50;\">\n",
    "        <img src=\"https://img.shields.io/badge/LinkedIn-%2300A4CC.svg?style=for-the-badge&logo=LinkedIn&logoColor=white\" alt=\"LinkedIn Badge\">\n",
    "      </a>\n",
    "    </td>\n",
    "    <td style=\"padding-left: 15px; border-bottom: 2px solid #ddd; text-align: left;\">\n",
    "      <a href=\"https://github.com/FahadUrRehman07\" style=\"text-decoration: none; color: #2c3e50;\">\n",
    "        <img src=\"https://img.shields.io/badge/GitHub-%23FF6F61.svg?style=for-the-badge&logo=GitHub&logoColor=white\" alt=\"GitHub Badge\">\n",
    "      </a>\n",
    "    </td>\n",
    "    <td style=\"padding: 10px; border-bottom: 2px solid #ddd; text-align: left;\">\n",
    "      <a href=\"https://www.kaggle.com/fahadrehman07\" style=\"text-decoration: none; color: #2c3e50;\">\n",
    "        <img src=\"https://img.shields.io/badge/Kaggle-%238a2be2.svg?style=for-the-badge&logo=Kaggle&logoColor=white\" alt=\"Kaggle Badge\">\n",
    "      </a>\n",
    "    </td>\n",
    "  </tr>\n",
    "</table>\n",
    "\n",
    "\n",
    "\n",
    "\n",
    "\n",
    "<div style=\"background-color:#F9D689; padding: 20px; border-radius: 10px; box-shadow: 3px 3px 6px rgba(0, 0, 128, 1);border:5px solid #0A2342; color:black;\">\n",
    "  <p style= \"color:black;\" >This project caters to researchers, analysts, and data enthusiasts seeking to gain a deep understanding of\n",
    "historical gold price trends and patterns, enabling them to make informed decisions, develop trading\n",
    "      strategies, and contribute to the broader understanding of market behavior.</p>\n",
    "  <center><h1 style=\"text-align: center; border-radius:5px; border: 6px double #973131; width: 95%; text-align: center; text-shadow: 3px 3px 6px white; color:black;\">Gold Price Analysis: Investigating Trends and Market Sentiment</h1></center>\n",
    "  <h2 style= \"color: white; text-shadow: 4px 4px 8px rgba(0, 0, 0, 0.7); color:black;font-size:30px;\">Problem Statement</h2>\n",
    "  <p style=\"color:black;\">\n",
    "    This project aims to leverage a comprehensive dataset of daily gold prices spanning from January 19, 2014, to January 22, 2024, obtained from Nasdaq. The dataset encompasses key financial metrics for each trading day, including the opening and closing prices, trading volume, as well as the highest and lowest prices recorded during the day.\n",
    "  </p>\n",
    "  <h2 style= \"color: white; text-shadow: 4px 4px 8px rgba(0, 0, 0, 0.7);color:black;font-size:30px;\">Datasets Description</h2>\n",
    "  <h3 style= \"color: black; text-shadow: 1px 1px 2px black;\">Dataset 1: Gold Price Data</h3>\n",
    "  <ul>\n",
    "    <li><code>Date:</code> A unique identifier for each trading day.</li>\n",
    "    <li><code>Close:</code> Closing price of gold on the respective date.</li>\n",
    "    <li><code>Volume:</code> Gold trading volume on the corresponding date.</li>\n",
    "    <li><code>Open:</code> Opening price of gold on the respective date.</li>\n",
    "    <li><code>High:</code> The highest recorded price of gold during the trading day.</li>\n",
    "    <li><code>Low:</code> The lowest price recorded for gold in the trading day.</li>\n",
    "  </ul>\n",
    "  <h3 style= \"color: black; text-shadow: 1px 1px 2px black;\">Dataset 2: Market Sentiment Data</h3>\n",
    "  <ul>\n",
    "    <li><code>Dates:</code> Date of news headline.</li>\n",
    "    <li><code>URL:</code> URL of news headline.</li>\n",
    "    <li><code>News:</code> News headline.</li>\n",
    "    <li><code>Price Direction Up:</code> Does the news headline imply price direction up?</li>\n",
    "    <li><code>Price Direction Constant:</code> Does the news headline imply price direction sideways (no change)?</li>\n",
    "    <li><code>Price Direction Down:</code> Does the news headline imply price direction down?</li>\n",
    "    <li><code>Asset Comparison:</code> Are assets being compared?</li>\n",
    "    <li><code>Past Information:</code> Is the news headline talking about past?</li>\n",
    "    <li><code>Future Information:</code> Is the news headline talking about future?</li>\n",
    "    <li><code>Price Sentiment:</code> Price sentiment of Gold commodity based on headline.</li>\n",
    "  </ul>\n",
    "  <h2 style= \"color: white; text-shadow: 4px 4px 8px rgba(0, 0, 0, 0.7);color:black;font-size:30px;\">Project Objectives</h2>\n",
    "  <ol>\n",
    "    <li><strong>Time Series Analysis:</strong> Explore historical trends and patterns in gold prices over the specified time period. Identify seasonality, cyclicality, and any discernible long-term trends in the gold market.</li>\n",
    "    <li><strong>Advanced Modeling:</strong> Develop predictive models to forecast future gold prices based on historical data. Evaluate and compare the performance of different forecasting algorithms.</li>\n",
    "    <li><strong>Trading Strategy Development:</strong> Formulate and backtest trading strategies based on the provided price and volume information. Explore the feasibility of reverse trading strategies for profit maximization.</li>\n",
    "    <li><strong>Market Sentiment Analysis:</strong> Investigate the impact of market events on gold prices. Assess market sentiment and its influence on short-term and long-term price movements.</li>\n",
    "    <li><strong>Statistical Analysis:</strong> Conduct statistical tests and analyses to gain insights into the characteristics of gold price movements. Explore correlations with external factors and macroeconomic indicators.</li>\n",
    "  </ol>\n",
    "  <h2 style= \"color: white; text-shadow: 4px 4px 8px rgba(0, 0, 0, 0.7);color:black;font-size:30px;\">Considerations</h2>\n",
    "  <p style=\"color:black;\">\n",
    "    Users are advised to validate the accuracy and reliability of the information. Be aware of limitations and biases inherent in financial databases. Acknowledge the potential impact of external events on gold prices.\n",
    "  </p>\n",
    "  <h2 style= \"color: white; text-shadow: 4px 4px 8px rgba(0, 0, 0, 0.7);color:black;font-size:30px;\">Expected Deliverables</h2>\n",
    "  <ul>\n",
    "    <li>Time series visualizations illustrating trends and patterns.</li>\n",
    "    <li>Predictive models for future gold price forecasting.</li>\n",
    "    <li>Back-tested trading strategies with performance metrics.</li>\n",
    "    <li>Market sentiment analysis reports highlighting key events and their impact.</li>\n",
    "    <li>Statistical analyses providing insights into the characteristics of gold price movements.</li>\n",
    "  </ul>\n",
    "  <p style=\"color:black;\">This project caters to researchers, analysts, and data enthusiasts seeking to gain a deep understanding of historical gold price trends and patterns, enabling them to make informed decisions, develop trading strategies, and contribute to the broader understanding of market behavior.</p>\n",
    "</div>"
   ]
  },
  {
   "cell_type": "markdown",
   "id": "db79bf32",
   "metadata": {
    "papermill": {
     "duration": 0.017852,
     "end_time": "2024-06-30T15:04:49.304596",
     "exception": false,
     "start_time": "2024-06-30T15:04:49.286744",
     "status": "completed"
    },
    "tags": []
   },
   "source": [
    "<a id=\"1\"></a>\n",
    "\n",
    "<h1><b><p style=\"background-image: url(https://i.postimg.cc/Qt051F3p/d-fklaj.jpg);font-family:Trebuchet MS;font-size:120%;color:#3F2305;text-align:center;border-radius:15px 50px; padding:7px; border:double 4px #1E90FF; box-shadow: 0px 0px 20px 5px #32CD32\"> 🧾 Table Of Content 🧾</p></b></h1>\n",
    "\n",
    "### [🛖 Table of Contents 🦋](#content)\n",
    "\n",
    "\n"
   ]
  },
  {
   "cell_type": "markdown",
   "id": "a68868a8",
   "metadata": {
    "papermill": {
     "duration": 0.017004,
     "end_time": "2024-06-30T15:04:49.340034",
     "exception": false,
     "start_time": "2024-06-30T15:04:49.323030",
     "status": "completed"
    },
    "tags": []
   },
   "source": [
    "<a id=\"content\"></a>   \n",
    "<div style=\"border-radius:20px; border: 4px solid red; padding: 15px; font-family:Trebuchet MS; font-size:100%; text-align:left; background-image: url(https://i.postimg.cc/NFNzJ63b/v695batch3-sasi-02-simpleframe.jpg); background-size: 170% auto;\">\n",
    "<h2><span style=\"text-align:center; font-weight:bolder; color:red; font-size:130%\">Table of Contents:</span></h2>\n",
    "\n",
    " * **[Step 1 |Initial Setup and Exploratory Data Analysis (EDA)](#EDA)**\n",
    "    -  [1.1 | Import Libraries](#Libraries)\n",
    "    -  [1.2 | Loading CSV file](#csv)\n",
    "    -  [1.3 | Removing Unnamed Column](#RUC)\n",
    "    -  [1.4 | Convert 'Date' column to datetime format](#DateTime)\n",
    "    -  [1.5 | Set 'Date' as the index](#index)\n",
    "    -  [1.6 | Plotting the Closing Price:](#plottingprice)\n",
    "    -  [1.7 | Seasonal Decomposition:](#decomposition)\n",
    " *  **[Step 2|Advanced Modeling](#Modeling)**\n",
    "    -  [2.1 | ARIMA Model for Forecasting:](#arima)\n",
    "    -  [2.2 | Fit Arima Model](#FittingArima)\n",
    "    -  [2.3 | Forecast](#forcast)\n",
    "    -  [2.4 | Plot the Result](#PlotResult)\n",
    "    -  [2.5 | Evaluate the Model](#EvaluateModel)\n",
    " *  **[Step 3 | Trading Strategy Development](#TradingStrategy)**\n",
    "    -  [3.1 | Simple Moving Average (SMA) Strategy:](#SMA)\n",
    "        - [3.1.1 | Calculate moving averages](#cma)\n",
    "        - [3.1.1 | Plotting the SMA](#pltSMA)\n",
    "    -  [3.2 |  BackTesting the SMA Strategy:](#BackTesting)\n",
    "        - [3.2.1 | Generate trading signals](#TradingSignals)\n",
    "        - [3.2.2 | Calculate returns](#Returns)\n",
    "        - [3.2.3 | Plot cumulative returns](#pltReturns)\n",
    "        - [3.2.4 | Calculate performance metrics](#Metrics)\n",
    " *  **[Step 4  Market Sentiment Analysis](#Sentiments)**\n",
    "    -  [4.1 | Sentiment dataset Parsing](#ParsingData)\n",
    "    -  [4.2 | Merge sentiment data with price data](#SentimentData)\n",
    "    -  [4.3 | Plot sentiment and price](#PltSentiment)\n",
    " *  **[Step 5 | Final words](#FW)**\n"
   ]
  },
  {
   "cell_type": "markdown",
   "id": "69146eec",
   "metadata": {
    "papermill": {
     "duration": 0.016966,
     "end_time": "2024-06-30T15:04:49.374143",
     "exception": false,
     "start_time": "2024-06-30T15:04:49.357177",
     "status": "completed"
    },
    "tags": []
   },
   "source": [
    "<a id=\"EDA\"></a> \n",
    "<h1><b><p style=\"background-image: url(https://i.postimg.cc/Qt051F3p/d-fklaj.jpg);font-family:Trebuchet MS;font-size:120%;color:#3F2305;text-align:center;border-radius:15px 50px; padding:7px; border:double 4px #1E90FF; box-shadow: 0px 0px 20px 5px #32CD32\"> 1. 🧙‍♀️ Initial Setup and Exploratory Data Analysis (EDA) 🧙‍♀️</p></b></h1>"
   ]
  },
  {
   "cell_type": "markdown",
   "id": "272c521c",
   "metadata": {
    "papermill": {
     "duration": 0.017042,
     "end_time": "2024-06-30T15:04:49.408409",
     "exception": false,
     "start_time": "2024-06-30T15:04:49.391367",
     "status": "completed"
    },
    "tags": []
   },
   "source": [
    "<a id=\"Libraries|\"></a> \n",
    "\n",
    "\n",
    "<h2 style='color:#FF7D29; font-family:Georgia; font-size:34px;'>1.1 Importing Libraries</h2>\n",
    "\n"
   ]
  },
  {
   "cell_type": "code",
   "execution_count": 6,
   "id": "eda6c3be",
   "metadata": {
    "execution": {
     "iopub.execute_input": "2024-06-30T15:04:49.444740Z",
     "iopub.status.busy": "2024-06-30T15:04:49.443899Z",
     "iopub.status.idle": "2024-06-30T15:04:51.910799Z",
     "shell.execute_reply": "2024-06-30T15:04:51.910060Z"
    },
    "papermill": {
     "duration": 2.487638,
     "end_time": "2024-06-30T15:04:51.913138",
     "exception": false,
     "start_time": "2024-06-30T15:04:49.425500",
     "status": "completed"
    },
    "tags": []
   },
   "outputs": [],
   "source": [
    "import pandas as pd\n",
    "import numpy as np\n",
    "import seaborn as sns\n",
    "import matplotlib.pyplot as plt\n",
    "\n",
    "from statsmodels.tsa.seasonal import seasonal_decompose\n",
    "\n",
    "from dateutil import parser\n",
    "\n",
    "from statsmodels.tsa.arima.model import ARIMA\n",
    "from sklearn.metrics import mean_squared_error\n",
    "\n",
    "import matplotlib.dates as mdates\n",
    "\n",
    "import warnings\n",
    "warnings.filterwarnings('ignore')"
   ]
  },
  {
   "cell_type": "markdown",
   "id": "78d06d09",
   "metadata": {
    "papermill": {
     "duration": 0.017175,
     "end_time": "2024-06-30T15:04:51.948069",
     "exception": false,
     "start_time": "2024-06-30T15:04:51.930894",
     "status": "completed"
    },
    "tags": []
   },
   "source": [
    "<a id=\"csv\"></a> \n",
    "\n",
    "<h2 style='color:#FF7D29; font-family:Georgia; font-size:34px;'>1.2 Importing CSV FIle</h2>"
   ]
  },
  {
   "cell_type": "code",
   "execution_count": 7,
   "id": "27a7df64",
   "metadata": {
    "execution": {
     "iopub.execute_input": "2024-06-30T15:04:51.983815Z",
     "iopub.status.busy": "2024-06-30T15:04:51.983358Z",
     "iopub.status.idle": "2024-06-30T15:04:52.070361Z",
     "shell.execute_reply": "2024-06-30T15:04:52.069441Z"
    },
    "papermill": {
     "duration": 0.107476,
     "end_time": "2024-06-30T15:04:52.072654",
     "exception": false,
     "start_time": "2024-06-30T15:04:51.965178",
     "status": "completed"
    },
    "tags": []
   },
   "outputs": [],
   "source": [
    "df = pd.read_csv('goldprices.csv')\n",
    "sentiment_df = pd.read_csv('goldprices.csv')"
   ]
  },
  {
   "cell_type": "code",
   "execution_count": 8,
   "id": "f46cbe2b",
   "metadata": {
    "execution": {
     "iopub.execute_input": "2024-06-30T15:04:52.108926Z",
     "iopub.status.busy": "2024-06-30T15:04:52.108470Z",
     "iopub.status.idle": "2024-06-30T15:04:52.131262Z",
     "shell.execute_reply": "2024-06-30T15:04:52.130436Z"
    },
    "papermill": {
     "duration": 0.042892,
     "end_time": "2024-06-30T15:04:52.133196",
     "exception": false,
     "start_time": "2024-06-30T15:04:52.090304",
     "status": "completed"
    },
    "tags": []
   },
   "outputs": [
    {
     "data": {
      "text/html": [
       "<div>\n",
       "<style scoped>\n",
       "    .dataframe tbody tr th:only-of-type {\n",
       "        vertical-align: middle;\n",
       "    }\n",
       "\n",
       "    .dataframe tbody tr th {\n",
       "        vertical-align: top;\n",
       "    }\n",
       "\n",
       "    .dataframe thead th {\n",
       "        text-align: right;\n",
       "    }\n",
       "</style>\n",
       "<table border=\"1\" class=\"dataframe\">\n",
       "  <thead>\n",
       "    <tr style=\"text-align: right;\">\n",
       "      <th></th>\n",
       "      <th>Date</th>\n",
       "      <th>Open</th>\n",
       "      <th>High</th>\n",
       "      <th>Low</th>\n",
       "      <th>Close</th>\n",
       "      <th>Volume</th>\n",
       "      <th>Dividends</th>\n",
       "      <th>Stock Splits</th>\n",
       "      <th>Capital Gains</th>\n",
       "    </tr>\n",
       "  </thead>\n",
       "  <tbody>\n",
       "    <tr>\n",
       "      <th>0</th>\n",
       "      <td>2019-11-11 00:00:00-05:00</td>\n",
       "      <td>137.610001</td>\n",
       "      <td>137.789993</td>\n",
       "      <td>136.440002</td>\n",
       "      <td>137.059998</td>\n",
       "      <td>7037300</td>\n",
       "      <td>0</td>\n",
       "      <td>0</td>\n",
       "      <td>0</td>\n",
       "    </tr>\n",
       "    <tr>\n",
       "      <th>1</th>\n",
       "      <td>2019-11-12 00:00:00-05:00</td>\n",
       "      <td>137.029999</td>\n",
       "      <td>137.589996</td>\n",
       "      <td>136.190002</td>\n",
       "      <td>137.429993</td>\n",
       "      <td>6448600</td>\n",
       "      <td>0</td>\n",
       "      <td>0</td>\n",
       "      <td>0</td>\n",
       "    </tr>\n",
       "    <tr>\n",
       "      <th>2</th>\n",
       "      <td>2019-11-13 00:00:00-05:00</td>\n",
       "      <td>137.800003</td>\n",
       "      <td>138.220001</td>\n",
       "      <td>137.639999</td>\n",
       "      <td>137.979996</td>\n",
       "      <td>8776000</td>\n",
       "      <td>0</td>\n",
       "      <td>0</td>\n",
       "      <td>0</td>\n",
       "    </tr>\n",
       "    <tr>\n",
       "      <th>3</th>\n",
       "      <td>2019-11-14 00:00:00-05:00</td>\n",
       "      <td>138.389999</td>\n",
       "      <td>138.940002</td>\n",
       "      <td>137.869995</td>\n",
       "      <td>138.559998</td>\n",
       "      <td>5220500</td>\n",
       "      <td>0</td>\n",
       "      <td>0</td>\n",
       "      <td>0</td>\n",
       "    </tr>\n",
       "    <tr>\n",
       "      <th>4</th>\n",
       "      <td>2019-11-15 00:00:00-05:00</td>\n",
       "      <td>138.029999</td>\n",
       "      <td>138.419998</td>\n",
       "      <td>137.970001</td>\n",
       "      <td>138.210007</td>\n",
       "      <td>10106700</td>\n",
       "      <td>0</td>\n",
       "      <td>0</td>\n",
       "      <td>0</td>\n",
       "    </tr>\n",
       "    <tr>\n",
       "      <th>5</th>\n",
       "      <td>2019-11-18 00:00:00-05:00</td>\n",
       "      <td>138.440002</td>\n",
       "      <td>138.850006</td>\n",
       "      <td>138.300003</td>\n",
       "      <td>138.619995</td>\n",
       "      <td>5717900</td>\n",
       "      <td>0</td>\n",
       "      <td>0</td>\n",
       "      <td>0</td>\n",
       "    </tr>\n",
       "    <tr>\n",
       "      <th>6</th>\n",
       "      <td>2019-11-19 00:00:00-05:00</td>\n",
       "      <td>138.130005</td>\n",
       "      <td>138.970001</td>\n",
       "      <td>138.130005</td>\n",
       "      <td>138.690002</td>\n",
       "      <td>4824400</td>\n",
       "      <td>0</td>\n",
       "      <td>0</td>\n",
       "      <td>0</td>\n",
       "    </tr>\n",
       "    <tr>\n",
       "      <th>7</th>\n",
       "      <td>2019-11-20 00:00:00-05:00</td>\n",
       "      <td>138.529999</td>\n",
       "      <td>139.000000</td>\n",
       "      <td>138.100006</td>\n",
       "      <td>138.759995</td>\n",
       "      <td>6892100</td>\n",
       "      <td>0</td>\n",
       "      <td>0</td>\n",
       "      <td>0</td>\n",
       "    </tr>\n",
       "    <tr>\n",
       "      <th>8</th>\n",
       "      <td>2019-11-21 00:00:00-05:00</td>\n",
       "      <td>138.389999</td>\n",
       "      <td>138.559998</td>\n",
       "      <td>137.770004</td>\n",
       "      <td>138.000000</td>\n",
       "      <td>4197200</td>\n",
       "      <td>0</td>\n",
       "      <td>0</td>\n",
       "      <td>0</td>\n",
       "    </tr>\n",
       "    <tr>\n",
       "      <th>9</th>\n",
       "      <td>2019-11-22 00:00:00-05:00</td>\n",
       "      <td>138.369995</td>\n",
       "      <td>138.460007</td>\n",
       "      <td>137.660004</td>\n",
       "      <td>137.740005</td>\n",
       "      <td>3620300</td>\n",
       "      <td>0</td>\n",
       "      <td>0</td>\n",
       "      <td>0</td>\n",
       "    </tr>\n",
       "  </tbody>\n",
       "</table>\n",
       "</div>"
      ],
      "text/plain": [
       "                        Date        Open        High         Low       Close  \\\n",
       "0  2019-11-11 00:00:00-05:00  137.610001  137.789993  136.440002  137.059998   \n",
       "1  2019-11-12 00:00:00-05:00  137.029999  137.589996  136.190002  137.429993   \n",
       "2  2019-11-13 00:00:00-05:00  137.800003  138.220001  137.639999  137.979996   \n",
       "3  2019-11-14 00:00:00-05:00  138.389999  138.940002  137.869995  138.559998   \n",
       "4  2019-11-15 00:00:00-05:00  138.029999  138.419998  137.970001  138.210007   \n",
       "5  2019-11-18 00:00:00-05:00  138.440002  138.850006  138.300003  138.619995   \n",
       "6  2019-11-19 00:00:00-05:00  138.130005  138.970001  138.130005  138.690002   \n",
       "7  2019-11-20 00:00:00-05:00  138.529999  139.000000  138.100006  138.759995   \n",
       "8  2019-11-21 00:00:00-05:00  138.389999  138.559998  137.770004  138.000000   \n",
       "9  2019-11-22 00:00:00-05:00  138.369995  138.460007  137.660004  137.740005   \n",
       "\n",
       "     Volume  Dividends  Stock Splits  Capital Gains  \n",
       "0   7037300          0             0              0  \n",
       "1   6448600          0             0              0  \n",
       "2   8776000          0             0              0  \n",
       "3   5220500          0             0              0  \n",
       "4  10106700          0             0              0  \n",
       "5   5717900          0             0              0  \n",
       "6   4824400          0             0              0  \n",
       "7   6892100          0             0              0  \n",
       "8   4197200          0             0              0  \n",
       "9   3620300          0             0              0  "
      ]
     },
     "execution_count": 8,
     "metadata": {},
     "output_type": "execute_result"
    }
   ],
   "source": [
    "df.head(10)"
   ]
  },
  {
   "cell_type": "code",
   "execution_count": 9,
   "id": "f24c0fa1",
   "metadata": {},
   "outputs": [
    {
     "data": {
      "text/html": [
       "<div>\n",
       "<style scoped>\n",
       "    .dataframe tbody tr th:only-of-type {\n",
       "        vertical-align: middle;\n",
       "    }\n",
       "\n",
       "    .dataframe tbody tr th {\n",
       "        vertical-align: top;\n",
       "    }\n",
       "\n",
       "    .dataframe thead th {\n",
       "        text-align: right;\n",
       "    }\n",
       "</style>\n",
       "<table border=\"1\" class=\"dataframe\">\n",
       "  <thead>\n",
       "    <tr style=\"text-align: right;\">\n",
       "      <th></th>\n",
       "      <th>Date</th>\n",
       "      <th>Open</th>\n",
       "      <th>High</th>\n",
       "      <th>Low</th>\n",
       "      <th>Close</th>\n",
       "      <th>Volume</th>\n",
       "      <th>Dividends</th>\n",
       "      <th>Stock Splits</th>\n",
       "      <th>Capital Gains</th>\n",
       "    </tr>\n",
       "  </thead>\n",
       "  <tbody>\n",
       "    <tr>\n",
       "      <th>1248</th>\n",
       "      <td>2024-10-28 00:00:00-04:00</td>\n",
       "      <td>253.009995</td>\n",
       "      <td>253.630005</td>\n",
       "      <td>252.949997</td>\n",
       "      <td>253.330002</td>\n",
       "      <td>4029100</td>\n",
       "      <td>0</td>\n",
       "      <td>0</td>\n",
       "      <td>0</td>\n",
       "    </tr>\n",
       "    <tr>\n",
       "      <th>1249</th>\n",
       "      <td>2024-10-29 00:00:00-04:00</td>\n",
       "      <td>254.490005</td>\n",
       "      <td>256.290008</td>\n",
       "      <td>254.229996</td>\n",
       "      <td>256.089996</td>\n",
       "      <td>8875500</td>\n",
       "      <td>0</td>\n",
       "      <td>0</td>\n",
       "      <td>0</td>\n",
       "    </tr>\n",
       "    <tr>\n",
       "      <th>1250</th>\n",
       "      <td>2024-10-30 00:00:00-04:00</td>\n",
       "      <td>256.760010</td>\n",
       "      <td>257.709992</td>\n",
       "      <td>255.910004</td>\n",
       "      <td>257.500000</td>\n",
       "      <td>6386200</td>\n",
       "      <td>0</td>\n",
       "      <td>0</td>\n",
       "      <td>0</td>\n",
       "    </tr>\n",
       "    <tr>\n",
       "      <th>1251</th>\n",
       "      <td>2024-10-31 00:00:00-04:00</td>\n",
       "      <td>255.520004</td>\n",
       "      <td>255.600006</td>\n",
       "      <td>252.199997</td>\n",
       "      <td>253.509995</td>\n",
       "      <td>9930800</td>\n",
       "      <td>0</td>\n",
       "      <td>0</td>\n",
       "      <td>0</td>\n",
       "    </tr>\n",
       "    <tr>\n",
       "      <th>1252</th>\n",
       "      <td>2024-11-01 00:00:00-04:00</td>\n",
       "      <td>254.330002</td>\n",
       "      <td>254.860001</td>\n",
       "      <td>252.440002</td>\n",
       "      <td>252.470001</td>\n",
       "      <td>6473000</td>\n",
       "      <td>0</td>\n",
       "      <td>0</td>\n",
       "      <td>0</td>\n",
       "    </tr>\n",
       "    <tr>\n",
       "      <th>1253</th>\n",
       "      <td>2024-11-04 00:00:00-05:00</td>\n",
       "      <td>253.320007</td>\n",
       "      <td>253.580002</td>\n",
       "      <td>252.270004</td>\n",
       "      <td>252.830002</td>\n",
       "      <td>4581400</td>\n",
       "      <td>0</td>\n",
       "      <td>0</td>\n",
       "      <td>0</td>\n",
       "    </tr>\n",
       "    <tr>\n",
       "      <th>1254</th>\n",
       "      <td>2024-11-05 00:00:00-05:00</td>\n",
       "      <td>253.779999</td>\n",
       "      <td>253.990005</td>\n",
       "      <td>252.410004</td>\n",
       "      <td>253.399994</td>\n",
       "      <td>6029900</td>\n",
       "      <td>0</td>\n",
       "      <td>0</td>\n",
       "      <td>0</td>\n",
       "    </tr>\n",
       "    <tr>\n",
       "      <th>1255</th>\n",
       "      <td>2024-11-06 00:00:00-05:00</td>\n",
       "      <td>245.639999</td>\n",
       "      <td>247.350006</td>\n",
       "      <td>244.949997</td>\n",
       "      <td>245.699997</td>\n",
       "      <td>14600200</td>\n",
       "      <td>0</td>\n",
       "      <td>0</td>\n",
       "      <td>0</td>\n",
       "    </tr>\n",
       "    <tr>\n",
       "      <th>1256</th>\n",
       "      <td>2024-11-07 00:00:00-05:00</td>\n",
       "      <td>248.289993</td>\n",
       "      <td>250.240005</td>\n",
       "      <td>248.119995</td>\n",
       "      <td>249.649994</td>\n",
       "      <td>8821400</td>\n",
       "      <td>0</td>\n",
       "      <td>0</td>\n",
       "      <td>0</td>\n",
       "    </tr>\n",
       "    <tr>\n",
       "      <th>1257</th>\n",
       "      <td>2024-11-08 00:00:00-05:00</td>\n",
       "      <td>249.070007</td>\n",
       "      <td>249.350006</td>\n",
       "      <td>247.779999</td>\n",
       "      <td>247.960007</td>\n",
       "      <td>6166900</td>\n",
       "      <td>0</td>\n",
       "      <td>0</td>\n",
       "      <td>0</td>\n",
       "    </tr>\n",
       "  </tbody>\n",
       "</table>\n",
       "</div>"
      ],
      "text/plain": [
       "                           Date        Open        High         Low  \\\n",
       "1248  2024-10-28 00:00:00-04:00  253.009995  253.630005  252.949997   \n",
       "1249  2024-10-29 00:00:00-04:00  254.490005  256.290008  254.229996   \n",
       "1250  2024-10-30 00:00:00-04:00  256.760010  257.709992  255.910004   \n",
       "1251  2024-10-31 00:00:00-04:00  255.520004  255.600006  252.199997   \n",
       "1252  2024-11-01 00:00:00-04:00  254.330002  254.860001  252.440002   \n",
       "1253  2024-11-04 00:00:00-05:00  253.320007  253.580002  252.270004   \n",
       "1254  2024-11-05 00:00:00-05:00  253.779999  253.990005  252.410004   \n",
       "1255  2024-11-06 00:00:00-05:00  245.639999  247.350006  244.949997   \n",
       "1256  2024-11-07 00:00:00-05:00  248.289993  250.240005  248.119995   \n",
       "1257  2024-11-08 00:00:00-05:00  249.070007  249.350006  247.779999   \n",
       "\n",
       "           Close    Volume  Dividends  Stock Splits  Capital Gains  \n",
       "1248  253.330002   4029100          0             0              0  \n",
       "1249  256.089996   8875500          0             0              0  \n",
       "1250  257.500000   6386200          0             0              0  \n",
       "1251  253.509995   9930800          0             0              0  \n",
       "1252  252.470001   6473000          0             0              0  \n",
       "1253  252.830002   4581400          0             0              0  \n",
       "1254  253.399994   6029900          0             0              0  \n",
       "1255  245.699997  14600200          0             0              0  \n",
       "1256  249.649994   8821400          0             0              0  \n",
       "1257  247.960007   6166900          0             0              0  "
      ]
     },
     "execution_count": 9,
     "metadata": {},
     "output_type": "execute_result"
    }
   ],
   "source": [
    "df.tail(10)"
   ]
  },
  {
   "cell_type": "markdown",
   "id": "57040b35",
   "metadata": {
    "papermill": {
     "duration": 0.017347,
     "end_time": "2024-06-30T15:04:52.168651",
     "exception": false,
     "start_time": "2024-06-30T15:04:52.151304",
     "status": "completed"
    },
    "tags": []
   },
   "source": [
    "### [🛖 Table of Contents 🦋](#content)"
   ]
  },
  {
   "cell_type": "markdown",
   "id": "6c9b02c3",
   "metadata": {
    "papermill": {
     "duration": 0.017271,
     "end_time": "2024-06-30T15:04:52.203128",
     "exception": false,
     "start_time": "2024-06-30T15:04:52.185857",
     "status": "completed"
    },
    "tags": []
   },
   "source": [
    "<a id=\"RUC\"></a> \n",
    "\n",
    "<h2 style='color:#FF7D29; font-family:Georgia; font-size:34px;'>1.3 Removing Unnamed column:</h2>"
   ]
  },
  {
   "cell_type": "code",
   "execution_count": 10,
   "id": "43a13075",
   "metadata": {
    "execution": {
     "iopub.execute_input": "2024-06-30T15:04:52.239432Z",
     "iopub.status.busy": "2024-06-30T15:04:52.239081Z",
     "iopub.status.idle": "2024-06-30T15:04:52.248496Z",
     "shell.execute_reply": "2024-06-30T15:04:52.247677Z"
    },
    "papermill": {
     "duration": 0.029663,
     "end_time": "2024-06-30T15:04:52.250299",
     "exception": false,
     "start_time": "2024-06-30T15:04:52.220636",
     "status": "completed"
    },
    "tags": []
   },
   "outputs": [
    {
     "ename": "KeyError",
     "evalue": "\"['Unnamed: 0'] not found in axis\"",
     "output_type": "error",
     "traceback": [
      "\u001b[1;31m---------------------------------------------------------------------------\u001b[0m",
      "\u001b[1;31mKeyError\u001b[0m                                  Traceback (most recent call last)",
      "\u001b[1;32m<ipython-input-10-a0b5aa997b95>\u001b[0m in \u001b[0;36m<module>\u001b[1;34m\u001b[0m\n\u001b[1;32m----> 1\u001b[1;33m \u001b[0mdf\u001b[0m\u001b[1;33m.\u001b[0m\u001b[0mdrop\u001b[0m\u001b[1;33m(\u001b[0m\u001b[0mcolumns\u001b[0m\u001b[1;33m=\u001b[0m\u001b[1;33m[\u001b[0m\u001b[1;34m'Unnamed: 0'\u001b[0m\u001b[1;33m]\u001b[0m\u001b[1;33m,\u001b[0m \u001b[0minplace\u001b[0m\u001b[1;33m=\u001b[0m\u001b[1;32mTrue\u001b[0m\u001b[1;33m)\u001b[0m\u001b[1;33m\u001b[0m\u001b[1;33m\u001b[0m\u001b[0m\n\u001b[0m",
      "\u001b[1;32md:\\ProgramData\\Anaconda3\\lib\\site-packages\\pandas\\core\\frame.py\u001b[0m in \u001b[0;36mdrop\u001b[1;34m(self, labels, axis, index, columns, level, inplace, errors)\u001b[0m\n\u001b[0;32m   4306\u001b[0m                 \u001b[0mweight\u001b[0m  \u001b[1;36m1.0\u001b[0m     \u001b[1;36m0.8\u001b[0m\u001b[1;33m\u001b[0m\u001b[1;33m\u001b[0m\u001b[0m\n\u001b[0;32m   4307\u001b[0m         \"\"\"\n\u001b[1;32m-> 4308\u001b[1;33m         return super().drop(\n\u001b[0m\u001b[0;32m   4309\u001b[0m             \u001b[0mlabels\u001b[0m\u001b[1;33m=\u001b[0m\u001b[0mlabels\u001b[0m\u001b[1;33m,\u001b[0m\u001b[1;33m\u001b[0m\u001b[1;33m\u001b[0m\u001b[0m\n\u001b[0;32m   4310\u001b[0m             \u001b[0maxis\u001b[0m\u001b[1;33m=\u001b[0m\u001b[0maxis\u001b[0m\u001b[1;33m,\u001b[0m\u001b[1;33m\u001b[0m\u001b[1;33m\u001b[0m\u001b[0m\n",
      "\u001b[1;32md:\\ProgramData\\Anaconda3\\lib\\site-packages\\pandas\\core\\generic.py\u001b[0m in \u001b[0;36mdrop\u001b[1;34m(self, labels, axis, index, columns, level, inplace, errors)\u001b[0m\n\u001b[0;32m   4151\u001b[0m         \u001b[1;32mfor\u001b[0m \u001b[0maxis\u001b[0m\u001b[1;33m,\u001b[0m \u001b[0mlabels\u001b[0m \u001b[1;32min\u001b[0m \u001b[0maxes\u001b[0m\u001b[1;33m.\u001b[0m\u001b[0mitems\u001b[0m\u001b[1;33m(\u001b[0m\u001b[1;33m)\u001b[0m\u001b[1;33m:\u001b[0m\u001b[1;33m\u001b[0m\u001b[1;33m\u001b[0m\u001b[0m\n\u001b[0;32m   4152\u001b[0m             \u001b[1;32mif\u001b[0m \u001b[0mlabels\u001b[0m \u001b[1;32mis\u001b[0m \u001b[1;32mnot\u001b[0m \u001b[1;32mNone\u001b[0m\u001b[1;33m:\u001b[0m\u001b[1;33m\u001b[0m\u001b[1;33m\u001b[0m\u001b[0m\n\u001b[1;32m-> 4153\u001b[1;33m                 \u001b[0mobj\u001b[0m \u001b[1;33m=\u001b[0m \u001b[0mobj\u001b[0m\u001b[1;33m.\u001b[0m\u001b[0m_drop_axis\u001b[0m\u001b[1;33m(\u001b[0m\u001b[0mlabels\u001b[0m\u001b[1;33m,\u001b[0m \u001b[0maxis\u001b[0m\u001b[1;33m,\u001b[0m \u001b[0mlevel\u001b[0m\u001b[1;33m=\u001b[0m\u001b[0mlevel\u001b[0m\u001b[1;33m,\u001b[0m \u001b[0merrors\u001b[0m\u001b[1;33m=\u001b[0m\u001b[0merrors\u001b[0m\u001b[1;33m)\u001b[0m\u001b[1;33m\u001b[0m\u001b[1;33m\u001b[0m\u001b[0m\n\u001b[0m\u001b[0;32m   4154\u001b[0m \u001b[1;33m\u001b[0m\u001b[0m\n\u001b[0;32m   4155\u001b[0m         \u001b[1;32mif\u001b[0m \u001b[0minplace\u001b[0m\u001b[1;33m:\u001b[0m\u001b[1;33m\u001b[0m\u001b[1;33m\u001b[0m\u001b[0m\n",
      "\u001b[1;32md:\\ProgramData\\Anaconda3\\lib\\site-packages\\pandas\\core\\generic.py\u001b[0m in \u001b[0;36m_drop_axis\u001b[1;34m(self, labels, axis, level, errors)\u001b[0m\n\u001b[0;32m   4186\u001b[0m                 \u001b[0mnew_axis\u001b[0m \u001b[1;33m=\u001b[0m \u001b[0maxis\u001b[0m\u001b[1;33m.\u001b[0m\u001b[0mdrop\u001b[0m\u001b[1;33m(\u001b[0m\u001b[0mlabels\u001b[0m\u001b[1;33m,\u001b[0m \u001b[0mlevel\u001b[0m\u001b[1;33m=\u001b[0m\u001b[0mlevel\u001b[0m\u001b[1;33m,\u001b[0m \u001b[0merrors\u001b[0m\u001b[1;33m=\u001b[0m\u001b[0merrors\u001b[0m\u001b[1;33m)\u001b[0m\u001b[1;33m\u001b[0m\u001b[1;33m\u001b[0m\u001b[0m\n\u001b[0;32m   4187\u001b[0m             \u001b[1;32melse\u001b[0m\u001b[1;33m:\u001b[0m\u001b[1;33m\u001b[0m\u001b[1;33m\u001b[0m\u001b[0m\n\u001b[1;32m-> 4188\u001b[1;33m                 \u001b[0mnew_axis\u001b[0m \u001b[1;33m=\u001b[0m \u001b[0maxis\u001b[0m\u001b[1;33m.\u001b[0m\u001b[0mdrop\u001b[0m\u001b[1;33m(\u001b[0m\u001b[0mlabels\u001b[0m\u001b[1;33m,\u001b[0m \u001b[0merrors\u001b[0m\u001b[1;33m=\u001b[0m\u001b[0merrors\u001b[0m\u001b[1;33m)\u001b[0m\u001b[1;33m\u001b[0m\u001b[1;33m\u001b[0m\u001b[0m\n\u001b[0m\u001b[0;32m   4189\u001b[0m             \u001b[0mresult\u001b[0m \u001b[1;33m=\u001b[0m \u001b[0mself\u001b[0m\u001b[1;33m.\u001b[0m\u001b[0mreindex\u001b[0m\u001b[1;33m(\u001b[0m\u001b[1;33m**\u001b[0m\u001b[1;33m{\u001b[0m\u001b[0maxis_name\u001b[0m\u001b[1;33m:\u001b[0m \u001b[0mnew_axis\u001b[0m\u001b[1;33m}\u001b[0m\u001b[1;33m)\u001b[0m\u001b[1;33m\u001b[0m\u001b[1;33m\u001b[0m\u001b[0m\n\u001b[0;32m   4190\u001b[0m \u001b[1;33m\u001b[0m\u001b[0m\n",
      "\u001b[1;32md:\\ProgramData\\Anaconda3\\lib\\site-packages\\pandas\\core\\indexes\\base.py\u001b[0m in \u001b[0;36mdrop\u001b[1;34m(self, labels, errors)\u001b[0m\n\u001b[0;32m   5589\u001b[0m         \u001b[1;32mif\u001b[0m \u001b[0mmask\u001b[0m\u001b[1;33m.\u001b[0m\u001b[0many\u001b[0m\u001b[1;33m(\u001b[0m\u001b[1;33m)\u001b[0m\u001b[1;33m:\u001b[0m\u001b[1;33m\u001b[0m\u001b[1;33m\u001b[0m\u001b[0m\n\u001b[0;32m   5590\u001b[0m             \u001b[1;32mif\u001b[0m \u001b[0merrors\u001b[0m \u001b[1;33m!=\u001b[0m \u001b[1;34m\"ignore\"\u001b[0m\u001b[1;33m:\u001b[0m\u001b[1;33m\u001b[0m\u001b[1;33m\u001b[0m\u001b[0m\n\u001b[1;32m-> 5591\u001b[1;33m                 \u001b[1;32mraise\u001b[0m \u001b[0mKeyError\u001b[0m\u001b[1;33m(\u001b[0m\u001b[1;34mf\"{labels[mask]} not found in axis\"\u001b[0m\u001b[1;33m)\u001b[0m\u001b[1;33m\u001b[0m\u001b[1;33m\u001b[0m\u001b[0m\n\u001b[0m\u001b[0;32m   5592\u001b[0m             \u001b[0mindexer\u001b[0m \u001b[1;33m=\u001b[0m \u001b[0mindexer\u001b[0m\u001b[1;33m[\u001b[0m\u001b[1;33m~\u001b[0m\u001b[0mmask\u001b[0m\u001b[1;33m]\u001b[0m\u001b[1;33m\u001b[0m\u001b[1;33m\u001b[0m\u001b[0m\n\u001b[0;32m   5593\u001b[0m         \u001b[1;32mreturn\u001b[0m \u001b[0mself\u001b[0m\u001b[1;33m.\u001b[0m\u001b[0mdelete\u001b[0m\u001b[1;33m(\u001b[0m\u001b[0mindexer\u001b[0m\u001b[1;33m)\u001b[0m\u001b[1;33m\u001b[0m\u001b[1;33m\u001b[0m\u001b[0m\n",
      "\u001b[1;31mKeyError\u001b[0m: \"['Unnamed: 0'] not found in axis\""
     ]
    }
   ],
   "source": [
    "df.drop(columns=['Unnamed: 0'], inplace=True)"
   ]
  },
  {
   "cell_type": "code",
   "execution_count": 11,
   "id": "e3469f32",
   "metadata": {
    "execution": {
     "iopub.execute_input": "2024-06-30T15:04:52.286003Z",
     "iopub.status.busy": "2024-06-30T15:04:52.285744Z",
     "iopub.status.idle": "2024-06-30T15:04:52.298655Z",
     "shell.execute_reply": "2024-06-30T15:04:52.297785Z"
    },
    "papermill": {
     "duration": 0.032966,
     "end_time": "2024-06-30T15:04:52.300628",
     "exception": false,
     "start_time": "2024-06-30T15:04:52.267662",
     "status": "completed"
    },
    "tags": []
   },
   "outputs": [
    {
     "data": {
      "text/html": [
       "<div>\n",
       "<style scoped>\n",
       "    .dataframe tbody tr th:only-of-type {\n",
       "        vertical-align: middle;\n",
       "    }\n",
       "\n",
       "    .dataframe tbody tr th {\n",
       "        vertical-align: top;\n",
       "    }\n",
       "\n",
       "    .dataframe thead th {\n",
       "        text-align: right;\n",
       "    }\n",
       "</style>\n",
       "<table border=\"1\" class=\"dataframe\">\n",
       "  <thead>\n",
       "    <tr style=\"text-align: right;\">\n",
       "      <th></th>\n",
       "      <th>Date</th>\n",
       "      <th>Open</th>\n",
       "      <th>High</th>\n",
       "      <th>Low</th>\n",
       "      <th>Close</th>\n",
       "      <th>Volume</th>\n",
       "      <th>Dividends</th>\n",
       "      <th>Stock Splits</th>\n",
       "      <th>Capital Gains</th>\n",
       "    </tr>\n",
       "  </thead>\n",
       "  <tbody>\n",
       "    <tr>\n",
       "      <th>0</th>\n",
       "      <td>2019-11-11 00:00:00-05:00</td>\n",
       "      <td>137.610001</td>\n",
       "      <td>137.789993</td>\n",
       "      <td>136.440002</td>\n",
       "      <td>137.059998</td>\n",
       "      <td>7037300</td>\n",
       "      <td>0</td>\n",
       "      <td>0</td>\n",
       "      <td>0</td>\n",
       "    </tr>\n",
       "    <tr>\n",
       "      <th>1</th>\n",
       "      <td>2019-11-12 00:00:00-05:00</td>\n",
       "      <td>137.029999</td>\n",
       "      <td>137.589996</td>\n",
       "      <td>136.190002</td>\n",
       "      <td>137.429993</td>\n",
       "      <td>6448600</td>\n",
       "      <td>0</td>\n",
       "      <td>0</td>\n",
       "      <td>0</td>\n",
       "    </tr>\n",
       "    <tr>\n",
       "      <th>2</th>\n",
       "      <td>2019-11-13 00:00:00-05:00</td>\n",
       "      <td>137.800003</td>\n",
       "      <td>138.220001</td>\n",
       "      <td>137.639999</td>\n",
       "      <td>137.979996</td>\n",
       "      <td>8776000</td>\n",
       "      <td>0</td>\n",
       "      <td>0</td>\n",
       "      <td>0</td>\n",
       "    </tr>\n",
       "    <tr>\n",
       "      <th>3</th>\n",
       "      <td>2019-11-14 00:00:00-05:00</td>\n",
       "      <td>138.389999</td>\n",
       "      <td>138.940002</td>\n",
       "      <td>137.869995</td>\n",
       "      <td>138.559998</td>\n",
       "      <td>5220500</td>\n",
       "      <td>0</td>\n",
       "      <td>0</td>\n",
       "      <td>0</td>\n",
       "    </tr>\n",
       "    <tr>\n",
       "      <th>4</th>\n",
       "      <td>2019-11-15 00:00:00-05:00</td>\n",
       "      <td>138.029999</td>\n",
       "      <td>138.419998</td>\n",
       "      <td>137.970001</td>\n",
       "      <td>138.210007</td>\n",
       "      <td>10106700</td>\n",
       "      <td>0</td>\n",
       "      <td>0</td>\n",
       "      <td>0</td>\n",
       "    </tr>\n",
       "  </tbody>\n",
       "</table>\n",
       "</div>"
      ],
      "text/plain": [
       "                        Date        Open        High         Low       Close  \\\n",
       "0  2019-11-11 00:00:00-05:00  137.610001  137.789993  136.440002  137.059998   \n",
       "1  2019-11-12 00:00:00-05:00  137.029999  137.589996  136.190002  137.429993   \n",
       "2  2019-11-13 00:00:00-05:00  137.800003  138.220001  137.639999  137.979996   \n",
       "3  2019-11-14 00:00:00-05:00  138.389999  138.940002  137.869995  138.559998   \n",
       "4  2019-11-15 00:00:00-05:00  138.029999  138.419998  137.970001  138.210007   \n",
       "\n",
       "     Volume  Dividends  Stock Splits  Capital Gains  \n",
       "0   7037300          0             0              0  \n",
       "1   6448600          0             0              0  \n",
       "2   8776000          0             0              0  \n",
       "3   5220500          0             0              0  \n",
       "4  10106700          0             0              0  "
      ]
     },
     "execution_count": 11,
     "metadata": {},
     "output_type": "execute_result"
    }
   ],
   "source": [
    "df.head()"
   ]
  },
  {
   "cell_type": "code",
   "execution_count": 12,
   "id": "f7f6782a",
   "metadata": {
    "execution": {
     "iopub.execute_input": "2024-06-30T15:04:52.337515Z",
     "iopub.status.busy": "2024-06-30T15:04:52.337194Z",
     "iopub.status.idle": "2024-06-30T15:04:52.357442Z",
     "shell.execute_reply": "2024-06-30T15:04:52.356457Z"
    },
    "papermill": {
     "duration": 0.040959,
     "end_time": "2024-06-30T15:04:52.359562",
     "exception": false,
     "start_time": "2024-06-30T15:04:52.318603",
     "status": "completed"
    },
    "tags": []
   },
   "outputs": [
    {
     "name": "stdout",
     "output_type": "stream",
     "text": [
      "<class 'pandas.core.frame.DataFrame'>\n",
      "RangeIndex: 1258 entries, 0 to 1257\n",
      "Data columns (total 9 columns):\n",
      " #   Column         Non-Null Count  Dtype  \n",
      "---  ------         --------------  -----  \n",
      " 0   Date           1258 non-null   object \n",
      " 1   Open           1258 non-null   float64\n",
      " 2   High           1258 non-null   float64\n",
      " 3   Low            1258 non-null   float64\n",
      " 4   Close          1258 non-null   float64\n",
      " 5   Volume         1258 non-null   int64  \n",
      " 6   Dividends      1258 non-null   int64  \n",
      " 7   Stock Splits   1258 non-null   int64  \n",
      " 8   Capital Gains  1258 non-null   int64  \n",
      "dtypes: float64(4), int64(4), object(1)\n",
      "memory usage: 88.6+ KB\n"
     ]
    }
   ],
   "source": [
    "df.info()"
   ]
  },
  {
   "cell_type": "code",
   "execution_count": 13,
   "id": "f4432226",
   "metadata": {
    "execution": {
     "iopub.execute_input": "2024-06-30T15:04:52.396131Z",
     "iopub.status.busy": "2024-06-30T15:04:52.395873Z",
     "iopub.status.idle": "2024-06-30T15:04:52.401736Z",
     "shell.execute_reply": "2024-06-30T15:04:52.400721Z"
    },
    "papermill": {
     "duration": 0.026099,
     "end_time": "2024-06-30T15:04:52.403562",
     "exception": false,
     "start_time": "2024-06-30T15:04:52.377463",
     "status": "completed"
    },
    "tags": []
   },
   "outputs": [
    {
     "name": "stdout",
     "output_type": "stream",
     "text": [
      "Date             0\n",
      "Open             0\n",
      "High             0\n",
      "Low              0\n",
      "Close            0\n",
      "Volume           0\n",
      "Dividends        0\n",
      "Stock Splits     0\n",
      "Capital Gains    0\n",
      "dtype: int64\n"
     ]
    }
   ],
   "source": [
    "print(df.isnull().sum())"
   ]
  },
  {
   "cell_type": "markdown",
   "id": "302a2511",
   "metadata": {
    "papermill": {
     "duration": 0.017656,
     "end_time": "2024-06-30T15:04:52.440099",
     "exception": false,
     "start_time": "2024-06-30T15:04:52.422443",
     "status": "completed"
    },
    "tags": []
   },
   "source": [
    "> 'There is no null values, means the dataset is maintained or collected very well.'"
   ]
  },
  {
   "cell_type": "code",
   "execution_count": 14,
   "id": "ca62998e",
   "metadata": {
    "execution": {
     "iopub.execute_input": "2024-06-30T15:04:52.476646Z",
     "iopub.status.busy": "2024-06-30T15:04:52.476339Z",
     "iopub.status.idle": "2024-06-30T15:04:52.498810Z",
     "shell.execute_reply": "2024-06-30T15:04:52.497915Z"
    },
    "papermill": {
     "duration": 0.042763,
     "end_time": "2024-06-30T15:04:52.500578",
     "exception": false,
     "start_time": "2024-06-30T15:04:52.457815",
     "status": "completed"
    },
    "tags": []
   },
   "outputs": [
    {
     "data": {
      "text/html": [
       "<div>\n",
       "<style scoped>\n",
       "    .dataframe tbody tr th:only-of-type {\n",
       "        vertical-align: middle;\n",
       "    }\n",
       "\n",
       "    .dataframe tbody tr th {\n",
       "        vertical-align: top;\n",
       "    }\n",
       "\n",
       "    .dataframe thead th {\n",
       "        text-align: right;\n",
       "    }\n",
       "</style>\n",
       "<table border=\"1\" class=\"dataframe\">\n",
       "  <thead>\n",
       "    <tr style=\"text-align: right;\">\n",
       "      <th></th>\n",
       "      <th>Open</th>\n",
       "      <th>High</th>\n",
       "      <th>Low</th>\n",
       "      <th>Close</th>\n",
       "      <th>Volume</th>\n",
       "      <th>Dividends</th>\n",
       "      <th>Stock Splits</th>\n",
       "      <th>Capital Gains</th>\n",
       "    </tr>\n",
       "  </thead>\n",
       "  <tbody>\n",
       "    <tr>\n",
       "      <th>count</th>\n",
       "      <td>1258.000000</td>\n",
       "      <td>1258.000000</td>\n",
       "      <td>1258.000000</td>\n",
       "      <td>1258.000000</td>\n",
       "      <td>1.258000e+03</td>\n",
       "      <td>1258.0</td>\n",
       "      <td>1258.0</td>\n",
       "      <td>1258.0</td>\n",
       "    </tr>\n",
       "    <tr>\n",
       "      <th>mean</th>\n",
       "      <td>177.982234</td>\n",
       "      <td>178.766224</td>\n",
       "      <td>177.144762</td>\n",
       "      <td>177.986478</td>\n",
       "      <td>8.605847e+06</td>\n",
       "      <td>0.0</td>\n",
       "      <td>0.0</td>\n",
       "      <td>0.0</td>\n",
       "    </tr>\n",
       "    <tr>\n",
       "      <th>std</th>\n",
       "      <td>22.490130</td>\n",
       "      <td>22.575668</td>\n",
       "      <td>22.377607</td>\n",
       "      <td>22.503454</td>\n",
       "      <td>4.859634e+06</td>\n",
       "      <td>0.0</td>\n",
       "      <td>0.0</td>\n",
       "      <td>0.0</td>\n",
       "    </tr>\n",
       "    <tr>\n",
       "      <th>min</th>\n",
       "      <td>136.979996</td>\n",
       "      <td>137.210007</td>\n",
       "      <td>136.119995</td>\n",
       "      <td>137.009995</td>\n",
       "      <td>1.436500e+06</td>\n",
       "      <td>0.0</td>\n",
       "      <td>0.0</td>\n",
       "      <td>0.0</td>\n",
       "    </tr>\n",
       "    <tr>\n",
       "      <th>25%</th>\n",
       "      <td>165.432499</td>\n",
       "      <td>166.215004</td>\n",
       "      <td>164.814999</td>\n",
       "      <td>165.419998</td>\n",
       "      <td>5.556475e+06</td>\n",
       "      <td>0.0</td>\n",
       "      <td>0.0</td>\n",
       "      <td>0.0</td>\n",
       "    </tr>\n",
       "    <tr>\n",
       "      <th>50%</th>\n",
       "      <td>173.750000</td>\n",
       "      <td>174.460007</td>\n",
       "      <td>172.864998</td>\n",
       "      <td>173.750000</td>\n",
       "      <td>7.326000e+06</td>\n",
       "      <td>0.0</td>\n",
       "      <td>0.0</td>\n",
       "      <td>0.0</td>\n",
       "    </tr>\n",
       "    <tr>\n",
       "      <th>75%</th>\n",
       "      <td>183.747501</td>\n",
       "      <td>184.417500</td>\n",
       "      <td>182.785004</td>\n",
       "      <td>183.669998</td>\n",
       "      <td>1.008325e+07</td>\n",
       "      <td>0.0</td>\n",
       "      <td>0.0</td>\n",
       "      <td>0.0</td>\n",
       "    </tr>\n",
       "    <tr>\n",
       "      <th>max</th>\n",
       "      <td>256.760010</td>\n",
       "      <td>257.709992</td>\n",
       "      <td>255.910004</td>\n",
       "      <td>257.500000</td>\n",
       "      <td>4.734770e+07</td>\n",
       "      <td>0.0</td>\n",
       "      <td>0.0</td>\n",
       "      <td>0.0</td>\n",
       "    </tr>\n",
       "  </tbody>\n",
       "</table>\n",
       "</div>"
      ],
      "text/plain": [
       "              Open         High          Low        Close        Volume  \\\n",
       "count  1258.000000  1258.000000  1258.000000  1258.000000  1.258000e+03   \n",
       "mean    177.982234   178.766224   177.144762   177.986478  8.605847e+06   \n",
       "std      22.490130    22.575668    22.377607    22.503454  4.859634e+06   \n",
       "min     136.979996   137.210007   136.119995   137.009995  1.436500e+06   \n",
       "25%     165.432499   166.215004   164.814999   165.419998  5.556475e+06   \n",
       "50%     173.750000   174.460007   172.864998   173.750000  7.326000e+06   \n",
       "75%     183.747501   184.417500   182.785004   183.669998  1.008325e+07   \n",
       "max     256.760010   257.709992   255.910004   257.500000  4.734770e+07   \n",
       "\n",
       "       Dividends  Stock Splits  Capital Gains  \n",
       "count     1258.0        1258.0         1258.0  \n",
       "mean         0.0           0.0            0.0  \n",
       "std          0.0           0.0            0.0  \n",
       "min          0.0           0.0            0.0  \n",
       "25%          0.0           0.0            0.0  \n",
       "50%          0.0           0.0            0.0  \n",
       "75%          0.0           0.0            0.0  \n",
       "max          0.0           0.0            0.0  "
      ]
     },
     "execution_count": 14,
     "metadata": {},
     "output_type": "execute_result"
    }
   ],
   "source": [
    "df.describe()"
   ]
  },
  {
   "cell_type": "markdown",
   "id": "08669e4c",
   "metadata": {
    "papermill": {
     "duration": 0.017816,
     "end_time": "2024-06-30T15:04:52.536890",
     "exception": false,
     "start_time": "2024-06-30T15:04:52.519074",
     "status": "completed"
    },
    "tags": []
   },
   "source": [
    "### [🛖 Table of Contents 🦋](#content)"
   ]
  },
  {
   "cell_type": "markdown",
   "id": "5ad6885c",
   "metadata": {
    "papermill": {
     "duration": 0.017855,
     "end_time": "2024-06-30T15:04:52.572994",
     "exception": false,
     "start_time": "2024-06-30T15:04:52.555139",
     "status": "completed"
    },
    "tags": []
   },
   "source": [
    "<a id=\"DateTime\"></a>\n",
    "<h2 style='color:#FF7D29; font-family:Georgia; font-size:34px;'>1.4 Convert 'Date' column to datetime format</h2>"
   ]
  },
  {
   "cell_type": "code",
   "execution_count": 15,
   "id": "4e6385a0",
   "metadata": {
    "execution": {
     "iopub.execute_input": "2024-06-30T15:04:52.610243Z",
     "iopub.status.busy": "2024-06-30T15:04:52.609975Z",
     "iopub.status.idle": "2024-06-30T15:04:52.618418Z",
     "shell.execute_reply": "2024-06-30T15:04:52.617550Z"
    },
    "papermill": {
     "duration": 0.029158,
     "end_time": "2024-06-30T15:04:52.620195",
     "exception": false,
     "start_time": "2024-06-30T15:04:52.591037",
     "status": "completed"
    },
    "tags": []
   },
   "outputs": [],
   "source": [
    "df['Date'] = pd.to_datetime(df['Date'])"
   ]
  },
  {
   "cell_type": "markdown",
   "id": "b1863b7c",
   "metadata": {
    "papermill": {
     "duration": 0.055531,
     "end_time": "2024-06-30T15:04:52.694063",
     "exception": false,
     "start_time": "2024-06-30T15:04:52.638532",
     "status": "completed"
    },
    "tags": []
   },
   "source": [
    "<a id=\"index\"></a>\n",
    "<h2 style='color:#FF7D29; font-family:Georgia; font-size:34px;'>1.5 Set 'Date' as the index</h2>"
   ]
  },
  {
   "cell_type": "code",
   "execution_count": 16,
   "id": "fcc829fd",
   "metadata": {
    "execution": {
     "iopub.execute_input": "2024-06-30T15:04:52.731953Z",
     "iopub.status.busy": "2024-06-30T15:04:52.731638Z",
     "iopub.status.idle": "2024-06-30T15:04:52.736557Z",
     "shell.execute_reply": "2024-06-30T15:04:52.735794Z"
    },
    "papermill": {
     "duration": 0.026289,
     "end_time": "2024-06-30T15:04:52.738558",
     "exception": false,
     "start_time": "2024-06-30T15:04:52.712269",
     "status": "completed"
    },
    "tags": []
   },
   "outputs": [],
   "source": [
    "df.set_index('Date', inplace=True)"
   ]
  },
  {
   "cell_type": "markdown",
   "id": "0f54d79b",
   "metadata": {
    "papermill": {
     "duration": 0.021423,
     "end_time": "2024-06-30T15:04:52.779199",
     "exception": false,
     "start_time": "2024-06-30T15:04:52.757776",
     "status": "completed"
    },
    "tags": []
   },
   "source": [
    "### [🛖 Table of Contents 🦋](#content)"
   ]
  },
  {
   "cell_type": "markdown",
   "id": "d050fbdb",
   "metadata": {
    "papermill": {
     "duration": 0.017824,
     "end_time": "2024-06-30T15:04:52.815135",
     "exception": false,
     "start_time": "2024-06-30T15:04:52.797311",
     "status": "completed"
    },
    "tags": []
   },
   "source": [
    "<a id=\"plottingprice\"></a>\n",
    "<h2 style='color:#FF7D29; font-family:Georgia; font-size:34px;'>1.6 Plotting the Closing Price:</h2>"
   ]
  },
  {
   "cell_type": "code",
   "execution_count": 17,
   "id": "08d6fb5f",
   "metadata": {
    "execution": {
     "iopub.execute_input": "2024-06-30T15:04:52.853044Z",
     "iopub.status.busy": "2024-06-30T15:04:52.852717Z",
     "iopub.status.idle": "2024-06-30T15:04:53.303635Z",
     "shell.execute_reply": "2024-06-30T15:04:53.302695Z"
    },
    "papermill": {
     "duration": 0.472921,
     "end_time": "2024-06-30T15:04:53.306491",
     "exception": false,
     "start_time": "2024-06-30T15:04:52.833570",
     "status": "completed"
    },
    "tags": []
   },
   "outputs": [
    {
     "name": "stdout",
     "output_type": "stream",
     "text": [
      "['Solarize_Light2', '_classic_test_patch', 'bmh', 'classic', 'dark_background', 'fast', 'fivethirtyeight', 'ggplot', 'grayscale', 'seaborn', 'seaborn-bright', 'seaborn-colorblind', 'seaborn-dark', 'seaborn-dark-palette', 'seaborn-darkgrid', 'seaborn-deep', 'seaborn-muted', 'seaborn-notebook', 'seaborn-paper', 'seaborn-pastel', 'seaborn-poster', 'seaborn-talk', 'seaborn-ticks', 'seaborn-white', 'seaborn-whitegrid', 'tableau-colorblind10']\n"
     ]
    },
    {
     "ename": "OSError",
     "evalue": "'seaborn-v0_8-dark-palette' not found in the style library and input is not a valid URL or path; see `style.available` for list of available styles",
     "output_type": "error",
     "traceback": [
      "\u001b[1;31m---------------------------------------------------------------------------\u001b[0m",
      "\u001b[1;31mFileNotFoundError\u001b[0m                         Traceback (most recent call last)",
      "\u001b[1;32md:\\ProgramData\\Anaconda3\\lib\\site-packages\\matplotlib\\style\\core.py\u001b[0m in \u001b[0;36muse\u001b[1;34m(style)\u001b[0m\n\u001b[0;32m    120\u001b[0m             \u001b[1;32mtry\u001b[0m\u001b[1;33m:\u001b[0m\u001b[1;33m\u001b[0m\u001b[1;33m\u001b[0m\u001b[0m\n\u001b[1;32m--> 121\u001b[1;33m                 \u001b[0mrc\u001b[0m \u001b[1;33m=\u001b[0m \u001b[0mrc_params_from_file\u001b[0m\u001b[1;33m(\u001b[0m\u001b[0mstyle\u001b[0m\u001b[1;33m,\u001b[0m \u001b[0muse_default_template\u001b[0m\u001b[1;33m=\u001b[0m\u001b[1;32mFalse\u001b[0m\u001b[1;33m)\u001b[0m\u001b[1;33m\u001b[0m\u001b[1;33m\u001b[0m\u001b[0m\n\u001b[0m\u001b[0;32m    122\u001b[0m                 \u001b[0m_apply_style\u001b[0m\u001b[1;33m(\u001b[0m\u001b[0mrc\u001b[0m\u001b[1;33m)\u001b[0m\u001b[1;33m\u001b[0m\u001b[1;33m\u001b[0m\u001b[0m\n",
      "\u001b[1;32md:\\ProgramData\\Anaconda3\\lib\\site-packages\\matplotlib\\__init__.py\u001b[0m in \u001b[0;36mrc_params_from_file\u001b[1;34m(fname, fail_on_error, use_default_template)\u001b[0m\n\u001b[0;32m    882\u001b[0m     \"\"\"\n\u001b[1;32m--> 883\u001b[1;33m     \u001b[0mconfig_from_file\u001b[0m \u001b[1;33m=\u001b[0m \u001b[0m_rc_params_in_file\u001b[0m\u001b[1;33m(\u001b[0m\u001b[0mfname\u001b[0m\u001b[1;33m,\u001b[0m \u001b[0mfail_on_error\u001b[0m\u001b[1;33m=\u001b[0m\u001b[0mfail_on_error\u001b[0m\u001b[1;33m)\u001b[0m\u001b[1;33m\u001b[0m\u001b[1;33m\u001b[0m\u001b[0m\n\u001b[0m\u001b[0;32m    884\u001b[0m \u001b[1;33m\u001b[0m\u001b[0m\n",
      "\u001b[1;32md:\\ProgramData\\Anaconda3\\lib\\site-packages\\matplotlib\\__init__.py\u001b[0m in \u001b[0;36m_rc_params_in_file\u001b[1;34m(fname, transform, fail_on_error)\u001b[0m\n\u001b[0;32m    811\u001b[0m     \u001b[0mrc_temp\u001b[0m \u001b[1;33m=\u001b[0m \u001b[1;33m{\u001b[0m\u001b[1;33m}\u001b[0m\u001b[1;33m\u001b[0m\u001b[1;33m\u001b[0m\u001b[0m\n\u001b[1;32m--> 812\u001b[1;33m     \u001b[1;32mwith\u001b[0m \u001b[0m_open_file_or_url\u001b[0m\u001b[1;33m(\u001b[0m\u001b[0mfname\u001b[0m\u001b[1;33m)\u001b[0m \u001b[1;32mas\u001b[0m \u001b[0mfd\u001b[0m\u001b[1;33m:\u001b[0m\u001b[1;33m\u001b[0m\u001b[1;33m\u001b[0m\u001b[0m\n\u001b[0m\u001b[0;32m    813\u001b[0m         \u001b[1;32mtry\u001b[0m\u001b[1;33m:\u001b[0m\u001b[1;33m\u001b[0m\u001b[1;33m\u001b[0m\u001b[0m\n",
      "\u001b[1;32md:\\ProgramData\\Anaconda3\\lib\\contextlib.py\u001b[0m in \u001b[0;36m__enter__\u001b[1;34m(self)\u001b[0m\n\u001b[0;32m    112\u001b[0m         \u001b[1;32mtry\u001b[0m\u001b[1;33m:\u001b[0m\u001b[1;33m\u001b[0m\u001b[1;33m\u001b[0m\u001b[0m\n\u001b[1;32m--> 113\u001b[1;33m             \u001b[1;32mreturn\u001b[0m \u001b[0mnext\u001b[0m\u001b[1;33m(\u001b[0m\u001b[0mself\u001b[0m\u001b[1;33m.\u001b[0m\u001b[0mgen\u001b[0m\u001b[1;33m)\u001b[0m\u001b[1;33m\u001b[0m\u001b[1;33m\u001b[0m\u001b[0m\n\u001b[0m\u001b[0;32m    114\u001b[0m         \u001b[1;32mexcept\u001b[0m \u001b[0mStopIteration\u001b[0m\u001b[1;33m:\u001b[0m\u001b[1;33m\u001b[0m\u001b[1;33m\u001b[0m\u001b[0m\n",
      "\u001b[1;32md:\\ProgramData\\Anaconda3\\lib\\site-packages\\matplotlib\\__init__.py\u001b[0m in \u001b[0;36m_open_file_or_url\u001b[1;34m(fname)\u001b[0m\n\u001b[0;32m    789\u001b[0m             \u001b[0mencoding\u001b[0m \u001b[1;33m=\u001b[0m \u001b[1;34m\"utf-8\"\u001b[0m\u001b[1;33m\u001b[0m\u001b[1;33m\u001b[0m\u001b[0m\n\u001b[1;32m--> 790\u001b[1;33m         \u001b[1;32mwith\u001b[0m \u001b[0mopen\u001b[0m\u001b[1;33m(\u001b[0m\u001b[0mfname\u001b[0m\u001b[1;33m,\u001b[0m \u001b[0mencoding\u001b[0m\u001b[1;33m=\u001b[0m\u001b[0mencoding\u001b[0m\u001b[1;33m)\u001b[0m \u001b[1;32mas\u001b[0m \u001b[0mf\u001b[0m\u001b[1;33m:\u001b[0m\u001b[1;33m\u001b[0m\u001b[1;33m\u001b[0m\u001b[0m\n\u001b[0m\u001b[0;32m    791\u001b[0m             \u001b[1;32myield\u001b[0m \u001b[0mf\u001b[0m\u001b[1;33m\u001b[0m\u001b[1;33m\u001b[0m\u001b[0m\n",
      "\u001b[1;31mFileNotFoundError\u001b[0m: [Errno 2] No such file or directory: 'seaborn-v0_8-dark-palette'",
      "\nThe above exception was the direct cause of the following exception:\n",
      "\u001b[1;31mOSError\u001b[0m                                   Traceback (most recent call last)",
      "\u001b[1;32m<ipython-input-17-554e359d001a>\u001b[0m in \u001b[0;36m<module>\u001b[1;34m\u001b[0m\n\u001b[0;32m      2\u001b[0m \u001b[0mprint\u001b[0m\u001b[1;33m(\u001b[0m\u001b[0mplt\u001b[0m\u001b[1;33m.\u001b[0m\u001b[0mstyle\u001b[0m\u001b[1;33m.\u001b[0m\u001b[0mavailable\u001b[0m\u001b[1;33m)\u001b[0m\u001b[1;33m\u001b[0m\u001b[1;33m\u001b[0m\u001b[0m\n\u001b[0;32m      3\u001b[0m \u001b[1;33m\u001b[0m\u001b[0m\n\u001b[1;32m----> 4\u001b[1;33m \u001b[0mplt\u001b[0m\u001b[1;33m.\u001b[0m\u001b[0mstyle\u001b[0m\u001b[1;33m.\u001b[0m\u001b[0muse\u001b[0m\u001b[1;33m(\u001b[0m\u001b[1;34m'seaborn-v0_8-dark-palette'\u001b[0m\u001b[1;33m)\u001b[0m\u001b[1;33m\u001b[0m\u001b[1;33m\u001b[0m\u001b[0m\n\u001b[0m\u001b[0;32m      5\u001b[0m \u001b[0mplt\u001b[0m\u001b[1;33m.\u001b[0m\u001b[0mfigure\u001b[0m\u001b[1;33m(\u001b[0m\u001b[0mfigsize\u001b[0m\u001b[1;33m=\u001b[0m\u001b[1;33m(\u001b[0m\u001b[1;36m14\u001b[0m\u001b[1;33m,\u001b[0m \u001b[1;36m7\u001b[0m\u001b[1;33m)\u001b[0m\u001b[1;33m)\u001b[0m\u001b[1;33m\u001b[0m\u001b[1;33m\u001b[0m\u001b[0m\n\u001b[0;32m      6\u001b[0m \u001b[1;33m\u001b[0m\u001b[0m\n",
      "\u001b[1;32md:\\ProgramData\\Anaconda3\\lib\\site-packages\\matplotlib\\style\\core.py\u001b[0m in \u001b[0;36muse\u001b[1;34m(style)\u001b[0m\n\u001b[0;32m    122\u001b[0m                 \u001b[0m_apply_style\u001b[0m\u001b[1;33m(\u001b[0m\u001b[0mrc\u001b[0m\u001b[1;33m)\u001b[0m\u001b[1;33m\u001b[0m\u001b[1;33m\u001b[0m\u001b[0m\n\u001b[0;32m    123\u001b[0m             \u001b[1;32mexcept\u001b[0m \u001b[0mIOError\u001b[0m \u001b[1;32mas\u001b[0m \u001b[0merr\u001b[0m\u001b[1;33m:\u001b[0m\u001b[1;33m\u001b[0m\u001b[1;33m\u001b[0m\u001b[0m\n\u001b[1;32m--> 124\u001b[1;33m                 raise IOError(\n\u001b[0m\u001b[0;32m    125\u001b[0m                     \u001b[1;34m\"{!r} not found in the style library and input is not a \"\u001b[0m\u001b[1;33m\u001b[0m\u001b[1;33m\u001b[0m\u001b[0m\n\u001b[0;32m    126\u001b[0m                     \u001b[1;34m\"valid URL or path; see `style.available` for list of \"\u001b[0m\u001b[1;33m\u001b[0m\u001b[1;33m\u001b[0m\u001b[0m\n",
      "\u001b[1;31mOSError\u001b[0m: 'seaborn-v0_8-dark-palette' not found in the style library and input is not a valid URL or path; see `style.available` for list of available styles"
     ]
    }
   ],
   "source": [
    "# Checking available styles\n",
    "print(plt.style.available)\n",
    "\n",
    "plt.style.use('seaborn-v0_8-dark-palette')\n",
    "plt.figure(figsize=(14, 7))\n",
    "\n",
    "plt.figure(figsize=(14, 7))\n",
    "plt.plot(df['Close'], label='Closing Price')\n",
    "plt.title('Gold Closing Prices Over Time')\n",
    "plt.xlabel('Date')\n",
    "plt.ylabel('Closing Price')\n",
    "plt.legend()\n",
    "plt.show()\n"
   ]
  },
  {
   "cell_type": "markdown",
   "id": "ad58166f",
   "metadata": {
    "papermill": {
     "duration": 0.019924,
     "end_time": "2024-06-30T15:04:53.347582",
     "exception": false,
     "start_time": "2024-06-30T15:04:53.327658",
     "status": "completed"
    },
    "tags": []
   },
   "source": [
    "# Insight from Plot:\n",
    "\n",
    "The chart illustrates the overall increasing trend in gold prices over the past decade, with significant volatility in recent years. This trend could be influenced by various economic factors, including market demand, global economic conditions, and geopolitical events."
   ]
  },
  {
   "cell_type": "markdown",
   "id": "cf3dd39d",
   "metadata": {
    "papermill": {
     "duration": 0.019535,
     "end_time": "2024-06-30T15:04:53.386636",
     "exception": false,
     "start_time": "2024-06-30T15:04:53.367101",
     "status": "completed"
    },
    "tags": []
   },
   "source": [
    "### [🛖 Table of Contents 🦋](#content)"
   ]
  },
  {
   "cell_type": "markdown",
   "id": "f5769568",
   "metadata": {
    "papermill": {
     "duration": 0.019706,
     "end_time": "2024-06-30T15:04:53.425900",
     "exception": false,
     "start_time": "2024-06-30T15:04:53.406194",
     "status": "completed"
    },
    "tags": []
   },
   "source": [
    "<a id=\"decomposition\"></a>\n",
    "\n",
    "<h2 style='color:#FF7D29; font-family:Georgia; font-size:34px;'>1.7 Seasonal Decomposition:</h2>"
   ]
  },
  {
   "cell_type": "code",
   "execution_count": 18,
   "id": "acbc9db2",
   "metadata": {
    "execution": {
     "iopub.execute_input": "2024-06-30T15:04:53.466222Z",
     "iopub.status.busy": "2024-06-30T15:04:53.465933Z",
     "iopub.status.idle": "2024-06-30T15:04:55.343878Z",
     "shell.execute_reply": "2024-06-30T15:04:55.342991Z"
    },
    "papermill": {
     "duration": 1.900877,
     "end_time": "2024-06-30T15:04:55.346342",
     "exception": false,
     "start_time": "2024-06-30T15:04:53.445465",
     "status": "completed"
    },
    "tags": []
   },
   "outputs": [
    {
     "data": {
      "image/png": "[encoded data removed]",
      "text/plain": [
       "<Figure size 432x288 with 4 Axes>"
      ]
     },
     "metadata": {
      "needs_background": "light"
     },
     "output_type": "display_data"
    }
   ],
   "source": [
    "decomposition = seasonal_decompose(df['Close'], model='multiplicative', period=365)\n",
    "decomposition.plot()\n",
    "plt.show()\n"
   ]
  },
  {
   "cell_type": "markdown",
   "id": "11645407",
   "metadata": {
    "papermill": {
     "duration": 0.020727,
     "end_time": "2024-06-30T15:04:55.388530",
     "exception": false,
     "start_time": "2024-06-30T15:04:55.367803",
     "status": "completed"
    },
    "tags": []
   },
   "source": [
    "# Insight from Plot:\n",
    "\n",
    "Downward Trend: The long-term trend of gold prices is downward, with a significant decline followed by a slight recovery towards the end of the period.\n",
    "Seasonal Pattern: There is a clear seasonal pattern in gold prices, with regular fluctuations occurring annually.\n",
    "Effective Decomposition: The residuals are well-behaved, suggesting that the decomposition model has effectively captured the trend and seasonal components. "
   ]
  },
  {
   "cell_type": "markdown",
   "id": "6d3b97c5",
   "metadata": {
    "papermill": {
     "duration": 0.020346,
     "end_time": "2024-06-30T15:04:55.429429",
     "exception": false,
     "start_time": "2024-06-30T15:04:55.409083",
     "status": "completed"
    },
    "tags": []
   },
   "source": [
    "<a id=\"Modeling\"></a>\n",
    "\n",
    "<h1><b><p style=\"background-image: url(https://i.postimg.cc/Qt051F3p/d-fklaj.jpg);font-family:Trebuchet MS;font-size:120%;color:#3F2305;text-align:center;border-radius:15px 50px; padding:7px; border:double 4px #1E90FF; box-shadow: 0px 0px 20px 5px #32CD32\"> ⛏️ 2. Advanced Modeling ⛏️</p></b></h1>\n"
   ]
  },
  {
   "cell_type": "markdown",
   "id": "2d8c3b81",
   "metadata": {
    "papermill": {
     "duration": 0.020302,
     "end_time": "2024-06-30T15:04:55.470366",
     "exception": false,
     "start_time": "2024-06-30T15:04:55.450064",
     "status": "completed"
    },
    "tags": []
   },
   "source": [
    "<a id=\"arima\"></a>\n",
    "\n",
    "<h2 style='color:#FF7D29; font-family:Georgia; font-size:34px;'>2.1 ARIMA Model for Forecasting:</h2>"
   ]
  },
  {
   "cell_type": "code",
   "execution_count": 20,
   "id": "5be8facd",
   "metadata": {
    "execution": {
     "iopub.execute_input": "2024-06-30T15:04:55.512876Z",
     "iopub.status.busy": "2024-06-30T15:04:55.512559Z",
     "iopub.status.idle": "2024-06-30T15:04:55.517838Z",
     "shell.execute_reply": "2024-06-30T15:04:55.516945Z"
    },
    "papermill": {
     "duration": 0.028887,
     "end_time": "2024-06-30T15:04:55.519745",
     "exception": false,
     "start_time": "2024-06-30T15:04:55.490858",
     "status": "completed"
    },
    "tags": []
   },
   "outputs": [],
   "source": [
    "from statsmodels.tsa.arima.model import ARIMA\n",
    "from sklearn.metrics import mean_squared_error\n",
    "\n",
    "# Split the data into train and test sets\n",
    "train = df['Close'][:int(0.8 * len(df))]\n",
    "test = df['Close'][int(0.8 * len(df)):]"
   ]
  },
  {
   "cell_type": "markdown",
   "id": "04ee1f6a",
   "metadata": {
    "papermill": {
     "duration": 0.0204,
     "end_time": "2024-06-30T15:04:55.560890",
     "exception": false,
     "start_time": "2024-06-30T15:04:55.540490",
     "status": "completed"
    },
    "tags": []
   },
   "source": [
    "### [🛖 Table of Contents 🦋](#content)"
   ]
  },
  {
   "cell_type": "markdown",
   "id": "7f9a7f93",
   "metadata": {
    "papermill": {
     "duration": 0.02026,
     "end_time": "2024-06-30T15:04:55.601683",
     "exception": false,
     "start_time": "2024-06-30T15:04:55.581423",
     "status": "completed"
    },
    "tags": []
   },
   "source": [
    "<a id=\"FittingArima\"></a>\n",
    "\n",
    "<h2 style='color:#FF7D29; font-family:Georgia; font-size:34px;'>2.2 Fit ARIMA model</h2>"
   ]
  },
  {
   "cell_type": "code",
   "execution_count": 21,
   "id": "a2981fe2",
   "metadata": {
    "execution": {
     "iopub.execute_input": "2024-06-30T15:04:55.644008Z",
     "iopub.status.busy": "2024-06-30T15:04:55.643759Z",
     "iopub.status.idle": "2024-06-30T15:04:56.516097Z",
     "shell.execute_reply": "2024-06-30T15:04:56.514809Z"
    },
    "papermill": {
     "duration": 0.897626,
     "end_time": "2024-06-30T15:04:56.519965",
     "exception": false,
     "start_time": "2024-06-30T15:04:55.622339",
     "status": "completed"
    },
    "tags": []
   },
   "outputs": [],
   "source": [
    "model = ARIMA(train, order=(5, 1, 0))\n",
    "model_fit = model.fit()\n"
   ]
  },
  {
   "cell_type": "markdown",
   "id": "bc38a75a",
   "metadata": {
    "papermill": {
     "duration": 0.045263,
     "end_time": "2024-06-30T15:04:56.611897",
     "exception": false,
     "start_time": "2024-06-30T15:04:56.566634",
     "status": "completed"
    },
    "tags": []
   },
   "source": [
    "<a id=\"forcast\"></a>\n",
    "\n",
    "<h2 style='color:#FF7D29; font-family:Georgia; font-size:34px;'>2.3 Forecast</h2>"
   ]
  },
  {
   "cell_type": "code",
   "execution_count": 22,
   "id": "72e45208",
   "metadata": {
    "execution": {
     "iopub.execute_input": "2024-06-30T15:04:56.663955Z",
     "iopub.status.busy": "2024-06-30T15:04:56.663261Z",
     "iopub.status.idle": "2024-06-30T15:04:56.685886Z",
     "shell.execute_reply": "2024-06-30T15:04:56.685049Z"
    },
    "papermill": {
     "duration": 0.04597,
     "end_time": "2024-06-30T15:04:56.687817",
     "exception": false,
     "start_time": "2024-06-30T15:04:56.641847",
     "status": "completed"
    },
    "tags": []
   },
   "outputs": [],
   "source": [
    "forecast = model_fit.forecast(steps=len(test))\n",
    "test.index = forecast.index  # Ensure test and forecast indices match"
   ]
  },
  {
   "cell_type": "markdown",
   "id": "32f2bfe8",
   "metadata": {
    "papermill": {
     "duration": 0.020485,
     "end_time": "2024-06-30T15:04:56.728985",
     "exception": false,
     "start_time": "2024-06-30T15:04:56.708500",
     "status": "completed"
    },
    "tags": []
   },
   "source": [
    "### [🛖 Table of Contents 🦋](#content)"
   ]
  },
  {
   "cell_type": "markdown",
   "id": "a3e9563b",
   "metadata": {
    "papermill": {
     "duration": 0.020351,
     "end_time": "2024-06-30T15:04:56.770418",
     "exception": false,
     "start_time": "2024-06-30T15:04:56.750067",
     "status": "completed"
    },
    "tags": []
   },
   "source": [
    "<a id=\"PlotResult\"></a>\n",
    "\n",
    "\n",
    "<h2 style='color:#FF7D29; font-family:Georgia; font-size:34px;'>2.4 Plot the results</h2>"
   ]
  },
  {
   "cell_type": "code",
   "execution_count": 23,
   "id": "e81bcca3",
   "metadata": {
    "execution": {
     "iopub.execute_input": "2024-06-30T15:04:56.814680Z",
     "iopub.status.busy": "2024-06-30T15:04:56.813949Z",
     "iopub.status.idle": "2024-06-30T15:04:57.092333Z",
     "shell.execute_reply": "2024-06-30T15:04:57.091447Z"
    },
    "papermill": {
     "duration": 0.302039,
     "end_time": "2024-06-30T15:04:57.094604",
     "exception": false,
     "start_time": "2024-06-30T15:04:56.792565",
     "status": "completed"
    },
    "tags": []
   },
   "outputs": [
    {
     "data": {
      "image/png": "[encoded data removed]",
      "text/plain": [
       "<Figure size 1008x504 with 1 Axes>"
      ]
     },
     "metadata": {
      "needs_background": "light"
     },
     "output_type": "display_data"
    }
   ],
   "source": [
    "plt.figure(figsize=(14, 7))\n",
    "plt.plot(train, label='Train')\n",
    "plt.plot(test, label='Test')\n",
    "plt.plot(forecast, label='Forecast')\n",
    "plt.legend()\n",
    "plt.show()"
   ]
  },
  {
   "cell_type": "markdown",
   "id": "874c888a",
   "metadata": {
    "papermill": {
     "duration": 0.021491,
     "end_time": "2024-06-30T15:04:57.137759",
     "exception": false,
     "start_time": "2024-06-30T15:04:57.116268",
     "status": "completed"
    },
    "tags": []
   },
   "source": [
    "# Insight from Plot:\n",
    "\n",
    "The plot illustrates the use of historical gold prices for model training and testing, with a brief forecast provided. This approach helps in understanding how well the model can predict future gold prices based on past trends."
   ]
  },
  {
   "cell_type": "markdown",
   "id": "635e0770",
   "metadata": {
    "papermill": {
     "duration": 0.02107,
     "end_time": "2024-06-30T15:04:57.180107",
     "exception": false,
     "start_time": "2024-06-30T15:04:57.159037",
     "status": "completed"
    },
    "tags": []
   },
   "source": [
    "### [🛖 Table of Contents 🦋](#content)"
   ]
  },
  {
   "cell_type": "markdown",
   "id": "f9f02544",
   "metadata": {
    "papermill": {
     "duration": 0.021077,
     "end_time": "2024-06-30T15:04:57.222401",
     "exception": false,
     "start_time": "2024-06-30T15:04:57.201324",
     "status": "completed"
    },
    "tags": []
   },
   "source": [
    "<a id=\"EvaluateModel\"></a>\n",
    "\n",
    "<h2 style='color:#FF7D29; font-family:Georgia; font-size:34px;'>2.5 Evaluate the model</h2>"
   ]
  },
  {
   "cell_type": "code",
   "execution_count": 24,
   "id": "ddb9b5c7",
   "metadata": {
    "execution": {
     "iopub.execute_input": "2024-06-30T15:04:57.266173Z",
     "iopub.status.busy": "2024-06-30T15:04:57.265641Z",
     "iopub.status.idle": "2024-06-30T15:04:57.271895Z",
     "shell.execute_reply": "2024-06-30T15:04:57.270996Z"
    },
    "papermill": {
     "duration": 0.030358,
     "end_time": "2024-06-30T15:04:57.273896",
     "exception": false,
     "start_time": "2024-06-30T15:04:57.243538",
     "status": "completed"
    },
    "tags": []
   },
   "outputs": [
    {
     "name": "stdout",
     "output_type": "stream",
     "text": [
      "RMSE: 38.73333391698913\n"
     ]
    }
   ],
   "source": [
    "rmse = np.sqrt(mean_squared_error(test, forecast))\n",
    "print(f'RMSE: {rmse}')"
   ]
  },
  {
   "cell_type": "markdown",
   "id": "93bc6502",
   "metadata": {
    "papermill": {
     "duration": 0.021167,
     "end_time": "2024-06-30T15:04:57.316481",
     "exception": false,
     "start_time": "2024-06-30T15:04:57.295314",
     "status": "completed"
    },
    "tags": []
   },
   "source": [
    "<a id=\"TradingStrategy\"></a>\n",
    "\n",
    "<h1><b><p style=\"background-image: url(https://i.postimg.cc/Qt051F3p/d-fklaj.jpg);font-family:Trebuchet MS;font-size:120%;color:#3F2305;text-align:center;border-radius:15px 50px; padding:7px; border:double 4px #1E90FF; box-shadow: 0px 0px 20px 5px #32CD32\"> ⚙️3. Trading Strategy Development⚙️</p></b></h1>\n",
    "\n",
    "### Tasks:\n",
    "\n",
    "- Develop trading strategies based on historical price and volume data.\n",
    "- Implement reverse trading strategies.\n",
    "- Backtest the strategies using historical data.\n",
    "- Evaluate the performance of the strategies (e.g., return, Sharpe ratio)."
   ]
  },
  {
   "cell_type": "markdown",
   "id": "f670d528",
   "metadata": {
    "papermill": {
     "duration": 0.021378,
     "end_time": "2024-06-30T15:04:57.359065",
     "exception": false,
     "start_time": "2024-06-30T15:04:57.337687",
     "status": "completed"
    },
    "tags": []
   },
   "source": [
    "<a id=\"SMA\"></a>\n",
    "\n",
    "\n",
    "<h2 style='font-family: Georgia; font-size: 30px; background: linear-gradient(to right, #FF7D29, #FFCD61); -webkit-background-clip: text; -webkit-text-fill-color: transparent; width: 50%'>\n",
    "3.1 Simple Moving Average (SMA) Strategy:\n",
    "</h2>\n",
    "\n"
   ]
  },
  {
   "cell_type": "markdown",
   "id": "ed680fe0",
   "metadata": {
    "papermill": {
     "duration": 0.021117,
     "end_time": "2024-06-30T15:04:57.401360",
     "exception": false,
     "start_time": "2024-06-30T15:04:57.380243",
     "status": "completed"
    },
    "tags": []
   },
   "source": [
    "### [🛖 Table of Contents 🦋](#content)"
   ]
  },
  {
   "cell_type": "markdown",
   "id": "6907cce3",
   "metadata": {
    "papermill": {
     "duration": 0.020989,
     "end_time": "2024-06-30T15:04:57.443696",
     "exception": false,
     "start_time": "2024-06-30T15:04:57.422707",
     "status": "completed"
    },
    "tags": []
   },
   "source": [
    "<a id=\"cma\"></a>\n",
    "<h3 style='color:#FF7D29; font-family:Georgia; font-size:27px;'>3.1.1 Calculate moving averages</h3>\n"
   ]
  },
  {
   "cell_type": "code",
   "execution_count": 25,
   "id": "27e7d20e",
   "metadata": {
    "execution": {
     "iopub.execute_input": "2024-06-30T15:04:57.487888Z",
     "iopub.status.busy": "2024-06-30T15:04:57.487069Z",
     "iopub.status.idle": "2024-06-30T15:04:57.493950Z",
     "shell.execute_reply": "2024-06-30T15:04:57.493230Z"
    },
    "papermill": {
     "duration": 0.030848,
     "end_time": "2024-06-30T15:04:57.495733",
     "exception": false,
     "start_time": "2024-06-30T15:04:57.464885",
     "status": "completed"
    },
    "tags": []
   },
   "outputs": [],
   "source": [
    "df['SMA_50'] = df['Close'].rolling(window=50).mean()\n",
    "df['SMA_200'] = df['Close'].rolling(window=200).mean()"
   ]
  },
  {
   "cell_type": "markdown",
   "id": "3188503e",
   "metadata": {
    "papermill": {
     "duration": 0.02118,
     "end_time": "2024-06-30T15:04:57.538217",
     "exception": false,
     "start_time": "2024-06-30T15:04:57.517037",
     "status": "completed"
    },
    "tags": []
   },
   "source": [
    "<a id=\"pltSMA\"></a>\n",
    "<h3 style='color:#FF7D29; font-family:Georgia; font-size:27px;'>3.1.2 Simple Moving Average (SMA) Strategy:</h3>\n"
   ]
  },
  {
   "cell_type": "code",
   "execution_count": 26,
   "id": "456917e5",
   "metadata": {
    "execution": {
     "iopub.execute_input": "2024-06-30T15:04:57.581882Z",
     "iopub.status.busy": "2024-06-30T15:04:57.581640Z",
     "iopub.status.idle": "2024-06-30T15:04:57.959233Z",
     "shell.execute_reply": "2024-06-30T15:04:57.958328Z"
    },
    "papermill": {
     "duration": 0.402665,
     "end_time": "2024-06-30T15:04:57.962217",
     "exception": false,
     "start_time": "2024-06-30T15:04:57.559552",
     "status": "completed"
    },
    "tags": []
   },
   "outputs": [
    {
     "data": {
      "image/png": "[encoded data removed]",
      "text/plain": [
       "<Figure size 1008x504 with 1 Axes>"
      ]
     },
     "metadata": {
      "needs_background": "light"
     },
     "output_type": "display_data"
    }
   ],
   "source": [
    "plt.figure(figsize=(14, 7))\n",
    "plt.plot(df['Close'], label='Close Price')\n",
    "plt.plot(df['SMA_50'], label='50-Day SMA')\n",
    "plt.plot(df['SMA_200'], label='200-Day SMA')\n",
    "plt.title('Gold Price and Moving Averages')\n",
    "plt.xlabel('Date')\n",
    "plt.ylabel('Price')\n",
    "plt.legend()\n",
    "plt.show()\n"
   ]
  },
  {
   "cell_type": "markdown",
   "id": "2fdc44f7",
   "metadata": {
    "papermill": {
     "duration": 0.022952,
     "end_time": "2024-06-30T15:04:58.009114",
     "exception": false,
     "start_time": "2024-06-30T15:04:57.986162",
     "status": "completed"
    },
    "tags": []
   },
   "source": [
    "# Interpretations:\n",
    "### *`Gold Price Trend:`*\n",
    "The blue line indicates the closing prices of gold over time. The gold price has shown significant fluctuations, with notable increases around 2019 and again from late 2020 onwards.\n",
    "### *`Moving Averages:`*\n",
    "- `50-Day SMA:` The orange line, which smooths out short-term fluctuations and follows the trend more closely than the 200-day SMA.\n",
    "- `200-Day SMA:` The green line, which smooths out longer-term fluctuations and provides a broader view of the trend.\n",
    "###  *`Trend Analysis:`*\n",
    "When the 50-day SMA crosses above the 200-day SMA, it is often considered a bullish signal (indicating potential upward momentum).\n",
    "- Conversely, when the 50-day SMA crosses below the 200-day SMA, it is considered a bearish signal (indicating potential downward momentum).\n",
    "> `From the chart, the gold price has been on a general upward trend since 2019, with several periods where the 50-day SMA crosses above and below the 200-day SMA, indicating varying market sentiments and momentum shifts.`"
   ]
  },
  {
   "cell_type": "markdown",
   "id": "e4d8e7b8",
   "metadata": {
    "papermill": {
     "duration": 0.023132,
     "end_time": "2024-06-30T15:04:58.055313",
     "exception": false,
     "start_time": "2024-06-30T15:04:58.032181",
     "status": "completed"
    },
    "tags": []
   },
   "source": [
    "### [🛖 Table of Contents 🦋](#content)"
   ]
  },
  {
   "cell_type": "markdown",
   "id": "dcfd3940",
   "metadata": {
    "papermill": {
     "duration": 0.023194,
     "end_time": "2024-06-30T15:04:58.102468",
     "exception": false,
     "start_time": "2024-06-30T15:04:58.079274",
     "status": "completed"
    },
    "tags": []
   },
   "source": [
    "<a id=\"BackTesting\"></a>\n",
    "\n",
    "<h2 style='font-family: Georgia; font-size: 30px; background: linear-gradient(to right, #FF7D29, #FFCD61); -webkit-background-clip: text; -webkit-text-fill-color: transparent; width: 45%'>\n",
    "3.2 BackTesting the SMA Strategy:\n",
    "</h2>"
   ]
  },
  {
   "cell_type": "markdown",
   "id": "f5249c46",
   "metadata": {
    "papermill": {
     "duration": 0.023152,
     "end_time": "2024-06-30T15:04:58.149151",
     "exception": false,
     "start_time": "2024-06-30T15:04:58.125999",
     "status": "completed"
    },
    "tags": []
   },
   "source": [
    "<a id=\"TradingSignals\"></a>\n",
    "\n",
    "<h3 style='color:#FF7D29; font-family:Georgia; font-size:27px;'>3.2.1 Generate trading signals</h3>"
   ]
  },
  {
   "cell_type": "code",
   "execution_count": 27,
   "id": "cfc29be1",
   "metadata": {
    "execution": {
     "iopub.execute_input": "2024-06-30T15:04:58.197911Z",
     "iopub.status.busy": "2024-06-30T15:04:58.196966Z",
     "iopub.status.idle": "2024-06-30T15:04:58.205826Z",
     "shell.execute_reply": "2024-06-30T15:04:58.205141Z"
    },
    "papermill": {
     "duration": 0.035267,
     "end_time": "2024-06-30T15:04:58.207804",
     "exception": false,
     "start_time": "2024-06-30T15:04:58.172537",
     "status": "completed"
    },
    "tags": []
   },
   "outputs": [],
   "source": [
    "df['Signal'] = 0\n",
    "df['Signal'][50:] = np.where(df['SMA_50'][50:] > df['SMA_200'][50:], 1, 0)\n",
    "df['Position'] = df['Signal'].diff()"
   ]
  },
  {
   "cell_type": "markdown",
   "id": "eed136d6",
   "metadata": {
    "papermill": {
     "duration": 0.02298,
     "end_time": "2024-06-30T15:04:58.253894",
     "exception": false,
     "start_time": "2024-06-30T15:04:58.230914",
     "status": "completed"
    },
    "tags": []
   },
   "source": [
    "<a id=\"Returns\"></a>\n",
    "\n",
    "<h3 style='color:#FF7D29; font-family:Georgia; font-size:27px;'>3.2.2 Calculate returns</h3>"
   ]
  },
  {
   "cell_type": "code",
   "execution_count": 28,
   "id": "bedc7b68",
   "metadata": {
    "execution": {
     "iopub.execute_input": "2024-06-30T15:04:58.301516Z",
     "iopub.status.busy": "2024-06-30T15:04:58.301234Z",
     "iopub.status.idle": "2024-06-30T15:04:58.308776Z",
     "shell.execute_reply": "2024-06-30T15:04:58.307865Z"
    },
    "papermill": {
     "duration": 0.033567,
     "end_time": "2024-06-30T15:04:58.310594",
     "exception": false,
     "start_time": "2024-06-30T15:04:58.277027",
     "status": "completed"
    },
    "tags": []
   },
   "outputs": [],
   "source": [
    "df['Return'] = df['Close'].pct_change()\n",
    "df['Strategy_Return'] = df['Return'] * df['Position'].shift(1)"
   ]
  },
  {
   "cell_type": "markdown",
   "id": "7b786c3d",
   "metadata": {
    "papermill": {
     "duration": 0.022971,
     "end_time": "2024-06-30T15:04:58.356992",
     "exception": false,
     "start_time": "2024-06-30T15:04:58.334021",
     "status": "completed"
    },
    "tags": []
   },
   "source": [
    "<a id=\"pltReturns\"></a>\n",
    "\n",
    "<h3 style='color:#FF7D29; font-family:Georgia; font-size:27px;'>3.2.3 Plot cumulative returns</h3>"
   ]
  },
  {
   "cell_type": "code",
   "execution_count": 30,
   "id": "7c7c6dcc",
   "metadata": {
    "execution": {
     "iopub.execute_input": "2024-06-30T15:04:58.404283Z",
     "iopub.status.busy": "2024-06-30T15:04:58.404026Z",
     "iopub.status.idle": "2024-06-30T15:04:58.410097Z",
     "shell.execute_reply": "2024-06-30T15:04:58.409401Z"
    },
    "papermill": {
     "duration": 0.031819,
     "end_time": "2024-06-30T15:04:58.411930",
     "exception": false,
     "start_time": "2024-06-30T15:04:58.380111",
     "status": "completed"
    },
    "tags": []
   },
   "outputs": [],
   "source": [
    "df['Cumulative_Return'] = (1 + df['Return']).cumprod() - 1\n",
    "df['Cumulative_Strategy_Return'] = (1 + df['Strategy_Return']).cumprod() - 1"
   ]
  },
  {
   "cell_type": "code",
   "execution_count": 31,
   "id": "e77a40e5",
   "metadata": {
    "execution": {
     "iopub.execute_input": "2024-06-30T15:04:58.459858Z",
     "iopub.status.busy": "2024-06-30T15:04:58.459380Z",
     "iopub.status.idle": "2024-06-30T15:04:58.826865Z",
     "shell.execute_reply": "2024-06-30T15:04:58.825892Z"
    },
    "papermill": {
     "duration": 0.394448,
     "end_time": "2024-06-30T15:04:58.829630",
     "exception": false,
     "start_time": "2024-06-30T15:04:58.435182",
     "status": "completed"
    },
    "tags": []
   },
   "outputs": [
    {
     "data": {
      "image/png": "[encoded data removed]",
      "text/plain": [
       "<Figure size 1008x504 with 1 Axes>"
      ]
     },
     "metadata": {
      "needs_background": "light"
     },
     "output_type": "display_data"
    }
   ],
   "source": [
    "plt.figure(figsize=(14, 7))\n",
    "plt.plot(df['Cumulative_Return'], label='Buy and Hold Return')\n",
    "plt.plot(df['Cumulative_Strategy_Return'], label='Strategy Return')\n",
    "plt.title('Cumulative Returns')\n",
    "plt.xlabel('Date')\n",
    "plt.ylabel('Cumulative Return')\n",
    "plt.legend()\n",
    "plt.show()"
   ]
  },
  {
   "cell_type": "markdown",
   "id": "54096221",
   "metadata": {
    "papermill": {
     "duration": 0.024395,
     "end_time": "2024-06-30T15:04:58.879303",
     "exception": false,
     "start_time": "2024-06-30T15:04:58.854908",
     "status": "completed"
    },
    "tags": []
   },
   "source": [
    "# Interpretation:\n",
    "### 1. *`Buy and Hold Return:`* \n",
    "   - The blue line indicates the performance of holding the asset without any trading.\n",
    "   - Initially, it shows a negative trend, reaching its lowest point around 2018.\n",
    "   - From 2018 onwards, there is a significant increase, especially from late 2019 to 2021, though it experiences some volatility.\n",
    "\n",
    "### 2. *`Strategy Return:`*\n",
    "   - The orange line appears to be relatively flat for most of the period, suggesting that the strategy did not yield significant returns compared to the buy-and-hold approach.\n",
    "   - There are minor increases at certain points, indicating slight gains, but overall, the strategy seems to have kept returns around zero.\n",
    "\n",
    "### 3. *`Comparison:`* \n",
    "   - The buy-and-hold strategy shows a more volatile but upward-trending performance, especially notable from 2019 onwards.\n",
    "   - The specific trading strategy seems to have maintained the capital with minimal gains or losses, as indicated by the flat orange line.\n",
    "\n",
    "# Conclusion:\n",
    "The chart suggests that the buy-and-hold approach significantly outperformed the specific trading strategy over the given period, particularly in the years following 2019."
   ]
  },
  {
   "cell_type": "markdown",
   "id": "adf29c70",
   "metadata": {
    "papermill": {
     "duration": 0.024754,
     "end_time": "2024-06-30T15:04:58.928338",
     "exception": false,
     "start_time": "2024-06-30T15:04:58.903584",
     "status": "completed"
    },
    "tags": []
   },
   "source": [
    "### [🛖 Table of Contents 🦋](#content)"
   ]
  },
  {
   "cell_type": "markdown",
   "id": "0e78a596",
   "metadata": {
    "papermill": {
     "duration": 0.02404,
     "end_time": "2024-06-30T15:04:58.976733",
     "exception": false,
     "start_time": "2024-06-30T15:04:58.952693",
     "status": "completed"
    },
    "tags": []
   },
   "source": [
    "<a id=\"Metrics\"></a>\n",
    "\n",
    "<h3 style='color:#FF7D29; font-family:Georgia; font-size:27px;'>3.2.4 Calculate performance metrics</h3>"
   ]
  },
  {
   "cell_type": "code",
   "execution_count": 32,
   "id": "7bb7a90c",
   "metadata": {
    "execution": {
     "iopub.execute_input": "2024-06-30T15:04:59.026928Z",
     "iopub.status.busy": "2024-06-30T15:04:59.026366Z",
     "iopub.status.idle": "2024-06-30T15:04:59.032885Z",
     "shell.execute_reply": "2024-06-30T15:04:59.031993Z"
    },
    "papermill": {
     "duration": 0.033658,
     "end_time": "2024-06-30T15:04:59.034788",
     "exception": false,
     "start_time": "2024-06-30T15:04:59.001130",
     "status": "completed"
    },
    "tags": []
   },
   "outputs": [
    {
     "name": "stdout",
     "output_type": "stream",
     "text": [
      "Total Return: 0.002616965515489955\n",
      "Sharpe Ratio: 0.049552218457880624\n"
     ]
    }
   ],
   "source": [
    "total_return = df['Cumulative_Strategy_Return'][-1]\n",
    "sharpe_ratio = df['Strategy_Return'].mean() / df['Strategy_Return'].std() * np.sqrt(252)\n",
    "\n",
    "print(f'Total Return: {total_return}')\n",
    "print(f'Sharpe Ratio: {sharpe_ratio}')"
   ]
  },
  {
   "cell_type": "markdown",
   "id": "95435c86",
   "metadata": {
    "papermill": {
     "duration": 0.025011,
     "end_time": "2024-06-30T15:04:59.084943",
     "exception": false,
     "start_time": "2024-06-30T15:04:59.059932",
     "status": "completed"
    },
    "tags": []
   },
   "source": [
    "### [🛖 Table of Contents 🦋](#content)"
   ]
  },
  {
   "cell_type": "markdown",
   "id": "300cb2a4",
   "metadata": {
    "papermill": {
     "duration": 0.02422,
     "end_time": "2024-06-30T15:04:59.133948",
     "exception": false,
     "start_time": "2024-06-30T15:04:59.109728",
     "status": "completed"
    },
    "tags": []
   },
   "source": [
    "<a id=\"Sentiments\"></a>\n",
    "\n",
    "<h1><b><p style=\"background-image: url(https://i.postimg.cc/Qt051F3p/d-fklaj.jpg);font-family:Trebuchet MS;font-size:120%;color:#3F2305;text-align:center;border-radius:15px 50px; padding:7px; border:double 4px #1E90FF; box-shadow: 0px 0px 20px 5px #32CD32\"> ☺️☹ 4. Market Sentiment Analysis ☹☺️</p></b></h1>\n",
    "\n",
    "- Collect and Analyze Sentiment Data: \n",
    "> '__Note:__' You will need access to sentiment data from sources like news articles or social media. This part assumes you have such data available"
   ]
  },
  {
   "cell_type": "markdown",
   "id": "e51a3051",
   "metadata": {
    "papermill": {
     "duration": 0.024056,
     "end_time": "2024-06-30T15:04:59.182366",
     "exception": false,
     "start_time": "2024-06-30T15:04:59.158310",
     "status": "completed"
    },
    "tags": []
   },
   "source": [
    "<a id=\"ParsingData\"></a>\n",
    "\n",
    "<h3 style='color:#FF7D29; font-family:Georgia; font-size:33px;'> 4.1 Sentiment dataset Parsing</h3>\n",
    "\n"
   ]
  },
  {
   "cell_type": "code",
   "execution_count": 33,
   "id": "d6c0eab3",
   "metadata": {
    "execution": {
     "iopub.execute_input": "2024-06-30T15:04:59.232682Z",
     "iopub.status.busy": "2024-06-30T15:04:59.232322Z",
     "iopub.status.idle": "2024-06-30T15:04:59.244696Z",
     "shell.execute_reply": "2024-06-30T15:04:59.243828Z"
    },
    "papermill": {
     "duration": 0.039752,
     "end_time": "2024-06-30T15:04:59.246531",
     "exception": false,
     "start_time": "2024-06-30T15:04:59.206779",
     "status": "completed"
    },
    "tags": []
   },
   "outputs": [
    {
     "data": {
      "text/html": [
       "<div>\n",
       "<style scoped>\n",
       "    .dataframe tbody tr th:only-of-type {\n",
       "        vertical-align: middle;\n",
       "    }\n",
       "\n",
       "    .dataframe tbody tr th {\n",
       "        vertical-align: top;\n",
       "    }\n",
       "\n",
       "    .dataframe thead th {\n",
       "        text-align: right;\n",
       "    }\n",
       "</style>\n",
       "<table border=\"1\" class=\"dataframe\">\n",
       "  <thead>\n",
       "    <tr style=\"text-align: right;\">\n",
       "      <th></th>\n",
       "      <th>Date</th>\n",
       "      <th>Open</th>\n",
       "      <th>High</th>\n",
       "      <th>Low</th>\n",
       "      <th>Close</th>\n",
       "      <th>Volume</th>\n",
       "      <th>Dividends</th>\n",
       "      <th>Stock Splits</th>\n",
       "      <th>Capital Gains</th>\n",
       "    </tr>\n",
       "  </thead>\n",
       "  <tbody>\n",
       "    <tr>\n",
       "      <th>0</th>\n",
       "      <td>2019-11-11 00:00:00-05:00</td>\n",
       "      <td>137.610001</td>\n",
       "      <td>137.789993</td>\n",
       "      <td>136.440002</td>\n",
       "      <td>137.059998</td>\n",
       "      <td>7037300</td>\n",
       "      <td>0</td>\n",
       "      <td>0</td>\n",
       "      <td>0</td>\n",
       "    </tr>\n",
       "    <tr>\n",
       "      <th>1</th>\n",
       "      <td>2019-11-12 00:00:00-05:00</td>\n",
       "      <td>137.029999</td>\n",
       "      <td>137.589996</td>\n",
       "      <td>136.190002</td>\n",
       "      <td>137.429993</td>\n",
       "      <td>6448600</td>\n",
       "      <td>0</td>\n",
       "      <td>0</td>\n",
       "      <td>0</td>\n",
       "    </tr>\n",
       "    <tr>\n",
       "      <th>2</th>\n",
       "      <td>2019-11-13 00:00:00-05:00</td>\n",
       "      <td>137.800003</td>\n",
       "      <td>138.220001</td>\n",
       "      <td>137.639999</td>\n",
       "      <td>137.979996</td>\n",
       "      <td>8776000</td>\n",
       "      <td>0</td>\n",
       "      <td>0</td>\n",
       "      <td>0</td>\n",
       "    </tr>\n",
       "    <tr>\n",
       "      <th>3</th>\n",
       "      <td>2019-11-14 00:00:00-05:00</td>\n",
       "      <td>138.389999</td>\n",
       "      <td>138.940002</td>\n",
       "      <td>137.869995</td>\n",
       "      <td>138.559998</td>\n",
       "      <td>5220500</td>\n",
       "      <td>0</td>\n",
       "      <td>0</td>\n",
       "      <td>0</td>\n",
       "    </tr>\n",
       "    <tr>\n",
       "      <th>4</th>\n",
       "      <td>2019-11-15 00:00:00-05:00</td>\n",
       "      <td>138.029999</td>\n",
       "      <td>138.419998</td>\n",
       "      <td>137.970001</td>\n",
       "      <td>138.210007</td>\n",
       "      <td>10106700</td>\n",
       "      <td>0</td>\n",
       "      <td>0</td>\n",
       "      <td>0</td>\n",
       "    </tr>\n",
       "  </tbody>\n",
       "</table>\n",
       "</div>"
      ],
      "text/plain": [
       "                        Date        Open        High         Low       Close  \\\n",
       "0  2019-11-11 00:00:00-05:00  137.610001  137.789993  136.440002  137.059998   \n",
       "1  2019-11-12 00:00:00-05:00  137.029999  137.589996  136.190002  137.429993   \n",
       "2  2019-11-13 00:00:00-05:00  137.800003  138.220001  137.639999  137.979996   \n",
       "3  2019-11-14 00:00:00-05:00  138.389999  138.940002  137.869995  138.559998   \n",
       "4  2019-11-15 00:00:00-05:00  138.029999  138.419998  137.970001  138.210007   \n",
       "\n",
       "     Volume  Dividends  Stock Splits  Capital Gains  \n",
       "0   7037300          0             0              0  \n",
       "1   6448600          0             0              0  \n",
       "2   8776000          0             0              0  \n",
       "3   5220500          0             0              0  \n",
       "4  10106700          0             0              0  "
      ]
     },
     "execution_count": 33,
     "metadata": {},
     "output_type": "execute_result"
    }
   ],
   "source": [
    "sentiment_df.head()"
   ]
  },
  {
   "cell_type": "code",
   "execution_count": 34,
   "id": "afc28ba8",
   "metadata": {
    "execution": {
     "iopub.execute_input": "2024-06-30T15:04:59.298072Z",
     "iopub.status.busy": "2024-06-30T15:04:59.297538Z",
     "iopub.status.idle": "2024-06-30T15:04:59.303200Z",
     "shell.execute_reply": "2024-06-30T15:04:59.302427Z"
    },
    "papermill": {
     "duration": 0.033255,
     "end_time": "2024-06-30T15:04:59.304916",
     "exception": false,
     "start_time": "2024-06-30T15:04:59.271661",
     "status": "completed"
    },
    "tags": []
   },
   "outputs": [
    {
     "data": {
      "text/plain": [
       "Index(['Date', 'Open', 'High', 'Low', 'Close', 'Volume', 'Dividends',\n",
       "       'Stock Splits', 'Capital Gains'],\n",
       "      dtype='object')"
      ]
     },
     "execution_count": 34,
     "metadata": {},
     "output_type": "execute_result"
    }
   ],
   "source": [
    "sentiment_df.columns"
   ]
  },
  {
   "cell_type": "markdown",
   "id": "68e7615b",
   "metadata": {
    "papermill": {
     "duration": 0.024927,
     "end_time": "2024-06-30T15:04:59.354747",
     "exception": false,
     "start_time": "2024-06-30T15:04:59.329820",
     "status": "completed"
    },
    "tags": []
   },
   "source": [
    "### [🛖 Table of Contents 🦋](#content)"
   ]
  },
  {
   "cell_type": "code",
   "execution_count": 37,
   "id": "5e88d205",
   "metadata": {
    "execution": {
     "iopub.execute_input": "2024-06-30T15:04:59.406117Z",
     "iopub.status.busy": "2024-06-30T15:04:59.405612Z",
     "iopub.status.idle": "2024-06-30T15:04:59.967899Z",
     "shell.execute_reply": "2024-06-30T15:04:59.966883Z"
    },
    "papermill": {
     "duration": 0.590141,
     "end_time": "2024-06-30T15:04:59.969878",
     "exception": false,
     "start_time": "2024-06-30T15:04:59.379737",
     "status": "completed"
    },
    "tags": []
   },
   "outputs": [
    {
     "name": "stdout",
     "output_type": "stream",
     "text": [
      "All dates parsed successfully after custom parsing.\n"
     ]
    }
   ],
   "source": [
    "# Function to parse dates\n",
    "def parse_date(date_str):\n",
    "    if pd.isnull(date_str):  # Handle NaT (Not a Time) values\n",
    "        return None\n",
    "    try:\n",
    "        return parser.parse(date_str)\n",
    "    except Exception as e:\n",
    "        print(f\"Error parsing date: {date_str} - {e}\")\n",
    "        return None\n",
    "\n",
    "# Apply the parse_date function to the 'Dates' column\n",
    "sentiment_df['Date'] = sentiment_df['Date'].apply(parse_date)\n",
    "\n",
    "# Check for unparseable dates again\n",
    "unparsed_dates = sentiment_df[sentiment_df['Date'].isnull()]\n",
    "if not unparsed_dates.empty:\n",
    "    print(\"Unparseable dates found after custom parsing:\")\n",
    "    print(unparsed_dates)\n",
    "else:\n",
    "    print(\"All dates parsed successfully after custom parsing.\")\n",
    "\n",
    "# Set 'Dates' as the index\n",
    "sentiment_df.set_index('Date', inplace=True)\n",
    "\n",
    "\n",
    "\n"
   ]
  },
  {
   "cell_type": "markdown",
   "id": "c85ccd56",
   "metadata": {
    "papermill": {
     "duration": 0.025118,
     "end_time": "2024-06-30T15:05:00.020185",
     "exception": false,
     "start_time": "2024-06-30T15:04:59.995067",
     "status": "completed"
    },
    "tags": []
   },
   "source": [
    "### [🛖 Table of Contents 🦋](#content)"
   ]
  },
  {
   "cell_type": "markdown",
   "id": "bd5462ad",
   "metadata": {
    "papermill": {
     "duration": 0.024868,
     "end_time": "2024-06-30T15:05:00.069943",
     "exception": false,
     "start_time": "2024-06-30T15:05:00.045075",
     "status": "completed"
    },
    "tags": []
   },
   "source": [
    "<a id=\"SentimentData\"></a>\n",
    "\n",
    "\n",
    "<h2 style='color:#FF7D29; font-family:Georgia; font-size:30px;'>4.2 Merge sentiment data with price data</h2>\n"
   ]
  },
  {
   "cell_type": "code",
   "execution_count": 38,
   "id": "2b65b79b",
   "metadata": {
    "execution": {
     "iopub.execute_input": "2024-06-30T15:05:00.122334Z",
     "iopub.status.busy": "2024-06-30T15:05:00.121544Z",
     "iopub.status.idle": "2024-06-30T15:05:00.140718Z",
     "shell.execute_reply": "2024-06-30T15:05:00.139869Z"
    },
    "papermill": {
     "duration": 0.047071,
     "end_time": "2024-06-30T15:05:00.142695",
     "exception": false,
     "start_time": "2024-06-30T15:05:00.095624",
     "status": "completed"
    },
    "tags": []
   },
   "outputs": [
    {
     "data": {
      "text/html": [
       "<div>\n",
       "<style scoped>\n",
       "    .dataframe tbody tr th:only-of-type {\n",
       "        vertical-align: middle;\n",
       "    }\n",
       "\n",
       "    .dataframe tbody tr th {\n",
       "        vertical-align: top;\n",
       "    }\n",
       "\n",
       "    .dataframe thead th {\n",
       "        text-align: right;\n",
       "    }\n",
       "</style>\n",
       "<table border=\"1\" class=\"dataframe\">\n",
       "  <thead>\n",
       "    <tr style=\"text-align: right;\">\n",
       "      <th></th>\n",
       "      <th>Date</th>\n",
       "      <th>Open</th>\n",
       "      <th>High</th>\n",
       "      <th>Low</th>\n",
       "      <th>Close</th>\n",
       "      <th>Volume</th>\n",
       "      <th>Dividends</th>\n",
       "      <th>Stock Splits</th>\n",
       "      <th>Capital Gains</th>\n",
       "    </tr>\n",
       "  </thead>\n",
       "  <tbody>\n",
       "    <tr>\n",
       "      <th>0</th>\n",
       "      <td>2019-11-11 00:00:00-05:00</td>\n",
       "      <td>137.610001</td>\n",
       "      <td>137.789993</td>\n",
       "      <td>136.440002</td>\n",
       "      <td>137.059998</td>\n",
       "      <td>7037300</td>\n",
       "      <td>0</td>\n",
       "      <td>0</td>\n",
       "      <td>0</td>\n",
       "    </tr>\n",
       "    <tr>\n",
       "      <th>1</th>\n",
       "      <td>2019-11-12 00:00:00-05:00</td>\n",
       "      <td>137.029999</td>\n",
       "      <td>137.589996</td>\n",
       "      <td>136.190002</td>\n",
       "      <td>137.429993</td>\n",
       "      <td>6448600</td>\n",
       "      <td>0</td>\n",
       "      <td>0</td>\n",
       "      <td>0</td>\n",
       "    </tr>\n",
       "    <tr>\n",
       "      <th>2</th>\n",
       "      <td>2019-11-13 00:00:00-05:00</td>\n",
       "      <td>137.800003</td>\n",
       "      <td>138.220001</td>\n",
       "      <td>137.639999</td>\n",
       "      <td>137.979996</td>\n",
       "      <td>8776000</td>\n",
       "      <td>0</td>\n",
       "      <td>0</td>\n",
       "      <td>0</td>\n",
       "    </tr>\n",
       "    <tr>\n",
       "      <th>3</th>\n",
       "      <td>2019-11-14 00:00:00-05:00</td>\n",
       "      <td>138.389999</td>\n",
       "      <td>138.940002</td>\n",
       "      <td>137.869995</td>\n",
       "      <td>138.559998</td>\n",
       "      <td>5220500</td>\n",
       "      <td>0</td>\n",
       "      <td>0</td>\n",
       "      <td>0</td>\n",
       "    </tr>\n",
       "    <tr>\n",
       "      <th>4</th>\n",
       "      <td>2019-11-15 00:00:00-05:00</td>\n",
       "      <td>138.029999</td>\n",
       "      <td>138.419998</td>\n",
       "      <td>137.970001</td>\n",
       "      <td>138.210007</td>\n",
       "      <td>10106700</td>\n",
       "      <td>0</td>\n",
       "      <td>0</td>\n",
       "      <td>0</td>\n",
       "    </tr>\n",
       "    <tr>\n",
       "      <th>...</th>\n",
       "      <td>...</td>\n",
       "      <td>...</td>\n",
       "      <td>...</td>\n",
       "      <td>...</td>\n",
       "      <td>...</td>\n",
       "      <td>...</td>\n",
       "      <td>...</td>\n",
       "      <td>...</td>\n",
       "      <td>...</td>\n",
       "    </tr>\n",
       "    <tr>\n",
       "      <th>1253</th>\n",
       "      <td>2024-11-04 00:00:00-05:00</td>\n",
       "      <td>253.320007</td>\n",
       "      <td>253.580002</td>\n",
       "      <td>252.270004</td>\n",
       "      <td>252.830002</td>\n",
       "      <td>4581400</td>\n",
       "      <td>0</td>\n",
       "      <td>0</td>\n",
       "      <td>0</td>\n",
       "    </tr>\n",
       "    <tr>\n",
       "      <th>1254</th>\n",
       "      <td>2024-11-05 00:00:00-05:00</td>\n",
       "      <td>253.779999</td>\n",
       "      <td>253.990005</td>\n",
       "      <td>252.410004</td>\n",
       "      <td>253.399994</td>\n",
       "      <td>6029900</td>\n",
       "      <td>0</td>\n",
       "      <td>0</td>\n",
       "      <td>0</td>\n",
       "    </tr>\n",
       "    <tr>\n",
       "      <th>1255</th>\n",
       "      <td>2024-11-06 00:00:00-05:00</td>\n",
       "      <td>245.639999</td>\n",
       "      <td>247.350006</td>\n",
       "      <td>244.949997</td>\n",
       "      <td>245.699997</td>\n",
       "      <td>14600200</td>\n",
       "      <td>0</td>\n",
       "      <td>0</td>\n",
       "      <td>0</td>\n",
       "    </tr>\n",
       "    <tr>\n",
       "      <th>1256</th>\n",
       "      <td>2024-11-07 00:00:00-05:00</td>\n",
       "      <td>248.289993</td>\n",
       "      <td>250.240005</td>\n",
       "      <td>248.119995</td>\n",
       "      <td>249.649994</td>\n",
       "      <td>8821400</td>\n",
       "      <td>0</td>\n",
       "      <td>0</td>\n",
       "      <td>0</td>\n",
       "    </tr>\n",
       "    <tr>\n",
       "      <th>1257</th>\n",
       "      <td>2024-11-08 00:00:00-05:00</td>\n",
       "      <td>249.070007</td>\n",
       "      <td>249.350006</td>\n",
       "      <td>247.779999</td>\n",
       "      <td>247.960007</td>\n",
       "      <td>6166900</td>\n",
       "      <td>0</td>\n",
       "      <td>0</td>\n",
       "      <td>0</td>\n",
       "    </tr>\n",
       "  </tbody>\n",
       "</table>\n",
       "<p>1258 rows × 9 columns</p>\n",
       "</div>"
      ],
      "text/plain": [
       "                           Date        Open        High         Low  \\\n",
       "0     2019-11-11 00:00:00-05:00  137.610001  137.789993  136.440002   \n",
       "1     2019-11-12 00:00:00-05:00  137.029999  137.589996  136.190002   \n",
       "2     2019-11-13 00:00:00-05:00  137.800003  138.220001  137.639999   \n",
       "3     2019-11-14 00:00:00-05:00  138.389999  138.940002  137.869995   \n",
       "4     2019-11-15 00:00:00-05:00  138.029999  138.419998  137.970001   \n",
       "...                         ...         ...         ...         ...   \n",
       "1253  2024-11-04 00:00:00-05:00  253.320007  253.580002  252.270004   \n",
       "1254  2024-11-05 00:00:00-05:00  253.779999  253.990005  252.410004   \n",
       "1255  2024-11-06 00:00:00-05:00  245.639999  247.350006  244.949997   \n",
       "1256  2024-11-07 00:00:00-05:00  248.289993  250.240005  248.119995   \n",
       "1257  2024-11-08 00:00:00-05:00  249.070007  249.350006  247.779999   \n",
       "\n",
       "           Close    Volume  Dividends  Stock Splits  Capital Gains  \n",
       "0     137.059998   7037300          0             0              0  \n",
       "1     137.429993   6448600          0             0              0  \n",
       "2     137.979996   8776000          0             0              0  \n",
       "3     138.559998   5220500          0             0              0  \n",
       "4     138.210007  10106700          0             0              0  \n",
       "...          ...       ...        ...           ...            ...  \n",
       "1253  252.830002   4581400          0             0              0  \n",
       "1254  253.399994   6029900          0             0              0  \n",
       "1255  245.699997  14600200          0             0              0  \n",
       "1256  249.649994   8821400          0             0              0  \n",
       "1257  247.960007   6166900          0             0              0  \n",
       "\n",
       "[1258 rows x 9 columns]"
      ]
     },
     "execution_count": 38,
     "metadata": {},
     "output_type": "execute_result"
    }
   ],
   "source": [
    "sentiment_df.reset_index()"
   ]
  },
  {
   "cell_type": "code",
   "execution_count": 39,
   "id": "dfe30999",
   "metadata": {
    "execution": {
     "iopub.execute_input": "2024-06-30T15:05:00.194886Z",
     "iopub.status.busy": "2024-06-30T15:05:00.194625Z",
     "iopub.status.idle": "2024-06-30T15:05:00.227257Z",
     "shell.execute_reply": "2024-06-30T15:05:00.226517Z"
    },
    "papermill": {
     "duration": 0.06072,
     "end_time": "2024-06-30T15:05:00.229183",
     "exception": false,
     "start_time": "2024-06-30T15:05:00.168463",
     "status": "completed"
    },
    "tags": []
   },
   "outputs": [
    {
     "data": {
      "text/plain": [
       "Index(['Open_x', 'High_x', 'Low_x', 'Close_x', 'Volume_x', 'Dividends_x',\n",
       "       'Stock Splits_x', 'Capital Gains_x', 'SMA_50', 'SMA_200', 'Signal',\n",
       "       'Position', 'Return', 'Strategy_Return', 'Cumulative_Return',\n",
       "       'Cumulative_Strategy_Return', 'Open_y', 'High_y', 'Low_y', 'Close_y',\n",
       "       'Volume_y', 'Dividends_y', 'Stock Splits_y', 'Capital Gains_y'],\n",
       "      dtype='object')"
      ]
     },
     "execution_count": 39,
     "metadata": {},
     "output_type": "execute_result"
    }
   ],
   "source": [
    "merged_df = df.merge(sentiment_df, left_index=True, right_index=True)\n",
    "merged_df.columns"
   ]
  },
  {
   "cell_type": "markdown",
   "id": "3d798802",
   "metadata": {
    "papermill": {
     "duration": 0.02541,
     "end_time": "2024-06-30T15:05:00.279976",
     "exception": false,
     "start_time": "2024-06-30T15:05:00.254566",
     "status": "completed"
    },
    "tags": []
   },
   "source": [
    "<a id=\"PltSentiment\"></a>\n",
    "\n",
    "\n",
    "<h2 style='color:#FF7D29; font-family:Georgia; font-size:30px;'>4.3 Plot sentiment and price</h2>"
   ]
  },
  {
   "cell_type": "code",
   "execution_count": 42,
   "id": "9272b78b",
   "metadata": {
    "execution": {
     "iopub.execute_input": "2024-06-30T15:05:00.332226Z",
     "iopub.status.busy": "2024-06-30T15:05:00.331757Z",
     "iopub.status.idle": "2024-06-30T15:05:00.893606Z",
     "shell.execute_reply": "2024-06-30T15:05:00.892698Z"
    },
    "papermill": {
     "duration": 0.590981,
     "end_time": "2024-06-30T15:05:00.896353",
     "exception": false,
     "start_time": "2024-06-30T15:05:00.305372",
     "status": "completed"
    },
    "tags": []
   },
   "outputs": [
    {
     "ename": "KeyError",
     "evalue": "'Close'",
     "output_type": "error",
     "traceback": [
      "\u001b[1;31m---------------------------------------------------------------------------\u001b[0m",
      "\u001b[1;31mKeyError\u001b[0m                                  Traceback (most recent call last)",
      "\u001b[1;32md:\\ProgramData\\Anaconda3\\lib\\site-packages\\pandas\\core\\indexes\\base.py\u001b[0m in \u001b[0;36mget_loc\u001b[1;34m(self, key, method, tolerance)\u001b[0m\n\u001b[0;32m   3079\u001b[0m             \u001b[1;32mtry\u001b[0m\u001b[1;33m:\u001b[0m\u001b[1;33m\u001b[0m\u001b[1;33m\u001b[0m\u001b[0m\n\u001b[1;32m-> 3080\u001b[1;33m                 \u001b[1;32mreturn\u001b[0m \u001b[0mself\u001b[0m\u001b[1;33m.\u001b[0m\u001b[0m_engine\u001b[0m\u001b[1;33m.\u001b[0m\u001b[0mget_loc\u001b[0m\u001b[1;33m(\u001b[0m\u001b[0mcasted_key\u001b[0m\u001b[1;33m)\u001b[0m\u001b[1;33m\u001b[0m\u001b[1;33m\u001b[0m\u001b[0m\n\u001b[0m\u001b[0;32m   3081\u001b[0m             \u001b[1;32mexcept\u001b[0m \u001b[0mKeyError\u001b[0m \u001b[1;32mas\u001b[0m \u001b[0merr\u001b[0m\u001b[1;33m:\u001b[0m\u001b[1;33m\u001b[0m\u001b[1;33m\u001b[0m\u001b[0m\n",
      "\u001b[1;32mpandas\\_libs\\index.pyx\u001b[0m in \u001b[0;36mpandas._libs.index.IndexEngine.get_loc\u001b[1;34m()\u001b[0m\n",
      "\u001b[1;32mpandas\\_libs\\index.pyx\u001b[0m in \u001b[0;36mpandas._libs.index.IndexEngine.get_loc\u001b[1;34m()\u001b[0m\n",
      "\u001b[1;32mpandas\\_libs\\hashtable_class_helper.pxi\u001b[0m in \u001b[0;36mpandas._libs.hashtable.PyObjectHashTable.get_item\u001b[1;34m()\u001b[0m\n",
      "\u001b[1;32mpandas\\_libs\\hashtable_class_helper.pxi\u001b[0m in \u001b[0;36mpandas._libs.hashtable.PyObjectHashTable.get_item\u001b[1;34m()\u001b[0m\n",
      "\u001b[1;31mKeyError\u001b[0m: 'Close'",
      "\nThe above exception was the direct cause of the following exception:\n",
      "\u001b[1;31mKeyError\u001b[0m                                  Traceback (most recent call last)",
      "\u001b[1;32m<ipython-input-42-2a4804c3bd7c>\u001b[0m in \u001b[0;36m<module>\u001b[1;34m\u001b[0m\n\u001b[0;32m      3\u001b[0m \u001b[0max1\u001b[0m\u001b[1;33m.\u001b[0m\u001b[0mset_xlabel\u001b[0m\u001b[1;33m(\u001b[0m\u001b[1;34m'Date'\u001b[0m\u001b[1;33m)\u001b[0m\u001b[1;33m\u001b[0m\u001b[1;33m\u001b[0m\u001b[0m\n\u001b[0;32m      4\u001b[0m \u001b[0max1\u001b[0m\u001b[1;33m.\u001b[0m\u001b[0mset_ylabel\u001b[0m\u001b[1;33m(\u001b[0m\u001b[1;34m'Close'\u001b[0m\u001b[1;33m,\u001b[0m \u001b[0mcolor\u001b[0m\u001b[1;33m=\u001b[0m\u001b[1;34m'tab:blue'\u001b[0m\u001b[1;33m)\u001b[0m\u001b[1;33m\u001b[0m\u001b[1;33m\u001b[0m\u001b[0m\n\u001b[1;32m----> 5\u001b[1;33m \u001b[0max1\u001b[0m\u001b[1;33m.\u001b[0m\u001b[0mplot\u001b[0m\u001b[1;33m(\u001b[0m\u001b[0mmerged_df\u001b[0m\u001b[1;33m.\u001b[0m\u001b[0mindex\u001b[0m\u001b[1;33m,\u001b[0m \u001b[0mmerged_df\u001b[0m\u001b[1;33m[\u001b[0m\u001b[1;34m'Close'\u001b[0m\u001b[1;33m]\u001b[0m\u001b[1;33m,\u001b[0m \u001b[0mcolor\u001b[0m\u001b[1;33m=\u001b[0m\u001b[1;34m'tab:blue'\u001b[0m\u001b[1;33m,\u001b[0m \u001b[0mlabel\u001b[0m\u001b[1;33m=\u001b[0m\u001b[1;34m'Close Price'\u001b[0m\u001b[1;33m)\u001b[0m\u001b[1;33m\u001b[0m\u001b[1;33m\u001b[0m\u001b[0m\n\u001b[0m\u001b[0;32m      6\u001b[0m \u001b[0max1\u001b[0m\u001b[1;33m.\u001b[0m\u001b[0mtick_params\u001b[0m\u001b[1;33m(\u001b[0m\u001b[0maxis\u001b[0m\u001b[1;33m=\u001b[0m\u001b[1;34m'y'\u001b[0m\u001b[1;33m,\u001b[0m \u001b[0mlabelcolor\u001b[0m\u001b[1;33m=\u001b[0m\u001b[1;34m'tab:blue'\u001b[0m\u001b[1;33m)\u001b[0m\u001b[1;33m\u001b[0m\u001b[1;33m\u001b[0m\u001b[0m\n\u001b[0;32m      7\u001b[0m \u001b[1;33m\u001b[0m\u001b[0m\n",
      "\u001b[1;32md:\\ProgramData\\Anaconda3\\lib\\site-packages\\pandas\\core\\frame.py\u001b[0m in \u001b[0;36m__getitem__\u001b[1;34m(self, key)\u001b[0m\n\u001b[0;32m   3022\u001b[0m             \u001b[1;32mif\u001b[0m \u001b[0mself\u001b[0m\u001b[1;33m.\u001b[0m\u001b[0mcolumns\u001b[0m\u001b[1;33m.\u001b[0m\u001b[0mnlevels\u001b[0m \u001b[1;33m>\u001b[0m \u001b[1;36m1\u001b[0m\u001b[1;33m:\u001b[0m\u001b[1;33m\u001b[0m\u001b[1;33m\u001b[0m\u001b[0m\n\u001b[0;32m   3023\u001b[0m                 \u001b[1;32mreturn\u001b[0m \u001b[0mself\u001b[0m\u001b[1;33m.\u001b[0m\u001b[0m_getitem_multilevel\u001b[0m\u001b[1;33m(\u001b[0m\u001b[0mkey\u001b[0m\u001b[1;33m)\u001b[0m\u001b[1;33m\u001b[0m\u001b[1;33m\u001b[0m\u001b[0m\n\u001b[1;32m-> 3024\u001b[1;33m             \u001b[0mindexer\u001b[0m \u001b[1;33m=\u001b[0m \u001b[0mself\u001b[0m\u001b[1;33m.\u001b[0m\u001b[0mcolumns\u001b[0m\u001b[1;33m.\u001b[0m\u001b[0mget_loc\u001b[0m\u001b[1;33m(\u001b[0m\u001b[0mkey\u001b[0m\u001b[1;33m)\u001b[0m\u001b[1;33m\u001b[0m\u001b[1;33m\u001b[0m\u001b[0m\n\u001b[0m\u001b[0;32m   3025\u001b[0m             \u001b[1;32mif\u001b[0m \u001b[0mis_integer\u001b[0m\u001b[1;33m(\u001b[0m\u001b[0mindexer\u001b[0m\u001b[1;33m)\u001b[0m\u001b[1;33m:\u001b[0m\u001b[1;33m\u001b[0m\u001b[1;33m\u001b[0m\u001b[0m\n\u001b[0;32m   3026\u001b[0m                 \u001b[0mindexer\u001b[0m \u001b[1;33m=\u001b[0m \u001b[1;33m[\u001b[0m\u001b[0mindexer\u001b[0m\u001b[1;33m]\u001b[0m\u001b[1;33m\u001b[0m\u001b[1;33m\u001b[0m\u001b[0m\n",
      "\u001b[1;32md:\\ProgramData\\Anaconda3\\lib\\site-packages\\pandas\\core\\indexes\\base.py\u001b[0m in \u001b[0;36mget_loc\u001b[1;34m(self, key, method, tolerance)\u001b[0m\n\u001b[0;32m   3080\u001b[0m                 \u001b[1;32mreturn\u001b[0m \u001b[0mself\u001b[0m\u001b[1;33m.\u001b[0m\u001b[0m_engine\u001b[0m\u001b[1;33m.\u001b[0m\u001b[0mget_loc\u001b[0m\u001b[1;33m(\u001b[0m\u001b[0mcasted_key\u001b[0m\u001b[1;33m)\u001b[0m\u001b[1;33m\u001b[0m\u001b[1;33m\u001b[0m\u001b[0m\n\u001b[0;32m   3081\u001b[0m             \u001b[1;32mexcept\u001b[0m \u001b[0mKeyError\u001b[0m \u001b[1;32mas\u001b[0m \u001b[0merr\u001b[0m\u001b[1;33m:\u001b[0m\u001b[1;33m\u001b[0m\u001b[1;33m\u001b[0m\u001b[0m\n\u001b[1;32m-> 3082\u001b[1;33m                 \u001b[1;32mraise\u001b[0m \u001b[0mKeyError\u001b[0m\u001b[1;33m(\u001b[0m\u001b[0mkey\u001b[0m\u001b[1;33m)\u001b[0m \u001b[1;32mfrom\u001b[0m \u001b[0merr\u001b[0m\u001b[1;33m\u001b[0m\u001b[1;33m\u001b[0m\u001b[0m\n\u001b[0m\u001b[0;32m   3083\u001b[0m \u001b[1;33m\u001b[0m\u001b[0m\n\u001b[0;32m   3084\u001b[0m         \u001b[1;32mif\u001b[0m \u001b[0mtolerance\u001b[0m \u001b[1;32mis\u001b[0m \u001b[1;32mnot\u001b[0m \u001b[1;32mNone\u001b[0m\u001b[1;33m:\u001b[0m\u001b[1;33m\u001b[0m\u001b[1;33m\u001b[0m\u001b[0m\n",
      "\u001b[1;31mKeyError\u001b[0m: 'Close'"
     ]
    },
    {
     "data": {
      "image/png": "[encoded data removed]",
      "text/plain": [
       "<Figure size 1008x504 with 1 Axes>"
      ]
     },
     "metadata": {
      "needs_background": "light"
     },
     "output_type": "display_data"
    }
   ],
   "source": [
    "fig, ax1 = plt.subplots(figsize=(14, 7))\n",
    "\n",
    "ax1.set_xlabel('Date')\n",
    "ax1.set_ylabel('Close', color='tab:blue')\n",
    "ax1.plot(merged_df.index, merged_df['Close'], color='tab:blue', label='Close Price')\n",
    "ax1.tick_params(axis='y', labelcolor='tab:blue')\n",
    "\n",
    "ax2 = ax1.twinx()\n",
    "ax2.set_ylabel('Sentiment', color='tab:red')\n",
    "ax2.plot(merged_df.index, merged_df['Price Sentiment'], color='tab:red', label='Sentiment', alpha=0.3)\n",
    "ax2.tick_params(axis='y', labelcolor='tab:red')\n",
    "\n",
    "fig.tight_layout()\n",
    "plt.title('Gold Price and Market Sentiment')\n",
    "plt.show()\n",
    "\n"
   ]
  },
  {
   "cell_type": "markdown",
   "id": "56a52d9d",
   "metadata": {
    "papermill": {
     "duration": 0.030792,
     "end_time": "2024-06-30T15:05:00.956206",
     "exception": false,
     "start_time": "2024-06-30T15:05:00.925414",
     "status": "completed"
    },
    "tags": []
   },
   "source": [
    "## Interpretation:\n",
    "### 1. *`Gold Price Trend:`*\n",
    "   - The blue line indicates the closing prices of gold over time.\n",
    "   - The price shows significant fluctuations, with notable declines and increases between 2014 and 2018.\n",
    "   - There is an upward trend starting in late 2018.\n",
    "\n",
    "### 2. *`Market Sentiment:`*\n",
    "   - The shaded areas and vertical lines represent different sentiments (positive, negative, none, neutral).\n",
    "   - The sentiment data is quite dense, with frequent changes and overlaps, making it challenging to discern specific patterns.\n",
    "   - Sentiments are predominantly neutral and negative throughout the period, with few instances of positive sentiment.\n",
    "\n",
    "### 3. *`Correlation Between Price and Sentiment:`*\n",
    "   - The gold price seems to be more volatile when the sentiment is neutral or negative.\n",
    "   - During periods of positive sentiment, the price either stabilizes or trends upwards.\n",
    "\n",
    "## Conclusion:\n",
    "The chart indicates a complex relationship between gold price and market sentiment, with sentiment predominantly being neutral or negative. There are few instances of positive sentiment, which might correlate with periods of price stability or upward trends. The overall trend shows significant fluctuations in gold price with a notable upward movement starting in late 2018."
   ]
  },
  {
   "cell_type": "markdown",
   "id": "59e307b5",
   "metadata": {
    "papermill": {
     "duration": 0.029119,
     "end_time": "2024-06-30T15:05:01.015119",
     "exception": false,
     "start_time": "2024-06-30T15:05:00.986000",
     "status": "completed"
    },
    "tags": []
   },
   "source": [
    "### [🛖 Table of Contents 🦋](#content)"
   ]
  },
  {
   "cell_type": "markdown",
   "id": "3078ab9a",
   "metadata": {
    "papermill": {
     "duration": 0.028509,
     "end_time": "2024-06-30T15:05:01.072090",
     "exception": false,
     "start_time": "2024-06-30T15:05:01.043581",
     "status": "completed"
    },
    "tags": []
   },
   "source": [
    "<a id=\"FW\"></a>\n",
    "\n",
    "<div style=\"background: linear-gradient(to right, #00c6ff, #0072ff); padding: 20px; border-radius: 10px; text-align: center; color: white; font-family: Arial, sans-serif;\">\n",
    "  <h2>😘❤️🎀😘Thank you for exploring my notebook!😘❤️🎀😘</h2>\n",
    "  <p>If you have any questions or suggestions, feel free to let me know in the comment section below.</p></center>\n",
    "  <p>Please upvote my notebook if you liked it😃😃😃</p>\n",
    "</div>"
   ]
  }
 ],
 "metadata": {
  "kaggle": {
   "accelerator": "gpu",
   "dataSources": [
    {
     "datasetId": 145424,
     "sourceId": 339411,
     "sourceType": "datasetVersion"
    },
    {
     "datasetId": 467053,
     "sourceId": 876665,
     "sourceType": "datasetVersion"
    },
    {
     "datasetId": 1241552,
     "sourceId": 2071356,
     "sourceType": "datasetVersion"
    },
    {
     "datasetId": 1479724,
     "sourceId": 2445315,
     "sourceType": "datasetVersion"
    },
    {
     "datasetId": 1545198,
     "sourceId": 2547761,
     "sourceType": "datasetVersion"
    },
    {
     "datasetId": 1773407,
     "sourceId": 2894713,
     "sourceType": "datasetVersion"
    },
    {
     "datasetId": 1608405,
     "sourceId": 3744643,
     "sourceType": "datasetVersion"
    },
    {
     "datasetId": 2514782,
     "sourceId": 4267793,
     "sourceType": "datasetVersion"
    },
    {
     "datasetId": 2591329,
     "sourceId": 4424060,
     "sourceType": "datasetVersion"
    },
    {
     "datasetId": 3478765,
     "sourceId": 6077067,
     "sourceType": "datasetVersion"
    },
    {
     "datasetId": 1894833,
     "sourceId": 6688309,
     "sourceType": "datasetVersion"
    },
    {
     "datasetId": 4338114,
     "sourceId": 7453198,
     "sourceType": "datasetVersion"
    },
    {
     "datasetId": 4296764,
     "sourceId": 7596485,
     "sourceType": "datasetVersion"
    },
    {
     "datasetId": 3640668,
     "sourceId": 8789448,
     "sourceType": "datasetVersion"
    }
   ],
   "dockerImageVersionId": 30733,
   "isGpuEnabled": true,
   "isInternetEnabled": true,
   "language": "python",
   "sourceType": "notebook"
  },
  "kernelspec": {
   "display_name": "Python 3",
   "language": "python",
   "name": "python3"
  },
  "language_info": {
   "codemirror_mode": {
    "name": "ipython",
    "version": 3
   },
   "file_extension": ".py",
   "mimetype": "text/x-python",
   "name": "python",
   "nbconvert_exporter": "python",
   "pygments_lexer": "ipython3",
   "version": "3.8.8"
  },
  "papermill": {
   "default_parameters": {},
   "duration": 14.915366,
   "end_time": "2024-06-30T15:05:01.518957",
   "environment_variables": {},
   "exception": null,
   "input_path": "__notebook__.ipynb",
   "output_path": "__notebook__.ipynb",
   "parameters": {},
   "start_time": "2024-06-30T15:04:46.603591",
   "version": "2.5.0"
  }
 },
 "nbformat": 4,
 "nbformat_minor": 5
}
